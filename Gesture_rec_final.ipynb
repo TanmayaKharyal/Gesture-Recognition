{
  "nbformat": 4,
  "nbformat_minor": 0,
  "metadata": {
    "kernelspec": {
      "display_name": "Python 3",
      "language": "python",
      "name": "python3"
    },
    "language_info": {
      "codemirror_mode": {
        "name": "ipython",
        "version": 3
      },
      "file_extension": ".py",
      "mimetype": "text/x-python",
      "name": "python",
      "nbconvert_exporter": "python",
      "pygments_lexer": "ipython3",
      "version": "3.6.8"
    },
    "colab": {
      "name": "Gesture_rec_final.ipynb",
      "provenance": []
    }
  },
  "cells": [
    {
      "cell_type": "markdown",
      "metadata": {
        "id": "L48YQWa1M7B9",
        "colab_type": "text"
      },
      "source": [
        "# Gesture Recognition\n",
        "In this group project, you are going to build a 3D Conv model that will be able to predict the 5 gestures correctly. Please import the following libraries to get started."
      ]
    },
    {
      "cell_type": "code",
      "metadata": {
        "id": "8FQMAwaWM7B_",
        "colab_type": "code",
        "colab": {}
      },
      "source": [
        "import numpy as np\n",
        "import os\n",
        "from scipy.misc import imread, imresize\n",
        "import datetime\n",
        "import os\n",
        "import warnings\n",
        "warnings.filterwarnings(\"ignore\")\n",
        "import abc\n",
        "from sys import getsizeof"
      ],
      "execution_count": null,
      "outputs": []
    },
    {
      "cell_type": "markdown",
      "metadata": {
        "id": "yyAxdA3EM7CG",
        "colab_type": "text"
      },
      "source": [
        "We set the random seed so that the results don't vary drastically."
      ]
    },
    {
      "cell_type": "code",
      "metadata": {
        "id": "0AppVXVZM7CH",
        "colab_type": "code",
        "colab": {},
        "outputId": "c65c41d2-fcb4-4e92-f28a-855b32733d88"
      },
      "source": [
        "np.random.seed(30)\n",
        "import random as rn\n",
        "rn.seed(30)\n",
        "from keras import backend as K\n",
        "import tensorflow as tf\n",
        "tf.set_random_seed(30)"
      ],
      "execution_count": null,
      "outputs": [
        {
          "output_type": "stream",
          "text": [
            "Using TensorFlow backend.\n"
          ],
          "name": "stderr"
        }
      ]
    },
    {
      "cell_type": "code",
      "metadata": {
        "id": "IahLPeOCM7CO",
        "colab_type": "code",
        "colab": {}
      },
      "source": [
        "import cv2\n",
        "import matplotlib.pyplot as plt\n",
        "% matplotlib inline\n",
        "from keras.models import Sequential, Model\n",
        "from keras.layers import Dense, GRU, Flatten, TimeDistributed, Flatten, BatchNormalization, Activation\n",
        "from keras.layers.convolutional import Conv3D, MaxPooling3D, Conv2D, MaxPooling2D\n",
        "from keras.layers.recurrent import LSTM\n",
        "from keras.callbacks import ModelCheckpoint, ReduceLROnPlateau\n",
        "from keras import optimizers\n",
        "from keras.layers import Dropout"
      ],
      "execution_count": null,
      "outputs": []
    },
    {
      "cell_type": "markdown",
      "metadata": {
        "id": "unU8WtGnM7CT",
        "colab_type": "text"
      },
      "source": [
        "In this block, you read the folder names for training and validation. You also set the `batch_size` here. Note that you set the batch size in such a way that you are able to use the GPU in full capacity. You keep increasing the batch size until the machine throws an error."
      ]
    },
    {
      "cell_type": "code",
      "metadata": {
        "id": "PhZaScFbM7CU",
        "colab_type": "code",
        "colab": {}
      },
      "source": [
        "project_folder='Project_data'"
      ],
      "execution_count": null,
      "outputs": []
    },
    {
      "cell_type": "code",
      "metadata": {
        "id": "h7IK1dz8M7CZ",
        "colab_type": "code",
        "colab": {}
      },
      "source": [
        "## Func to visualise accuracy and loss\n",
        "def plot(history):\n",
        "    fig, axes = plt.subplots(nrows=1, ncols=2, figsize=(15,4))\n",
        "    axes[0].plot(history.history['loss'])   \n",
        "    axes[0].plot(history.history['val_loss'])\n",
        "    axes[0].legend(['loss','val_loss'])\n",
        "\n",
        "    axes[1].plot(history.history['categorical_accuracy'])   \n",
        "    axes[1].plot(history.history['val_categorical_accuracy'])\n",
        "    axes[1].legend(['categorical_accuracy','val_categorical_accuracy'])"
      ],
      "execution_count": null,
      "outputs": []
    },
    {
      "cell_type": "markdown",
      "metadata": {
        "id": "-1DwVJ4dM7Ce",
        "colab_type": "text"
      },
      "source": [
        "## Generator\n",
        "This is one of the most important part of the code. The overall structure of the generator has been given. In the generator, you are going to preprocess the images as you have images of 2 different dimensions as well as create a batch of video frames. You have to experiment with `img_idx`, `y`,`z` and normalization such that you get high accuracy."
      ]
    },
    {
      "cell_type": "code",
      "metadata": {
        "id": "yhz3jMNCM7Cf",
        "colab_type": "code",
        "colab": {}
      },
      "source": [
        "class ModelBuilder(metaclass= abc.ABCMeta):\n",
        "    \n",
        "    def initialize_path(self,project_folder):\n",
        "        self.train_doc = np.random.permutation(open(project_folder + '/' + 'train.csv').readlines())\n",
        "        self.val_doc = np.random.permutation(open(project_folder + '/' + 'val.csv').readlines())\n",
        "        self.train_path = project_folder + '/' + 'train'\n",
        "        self.val_path =  project_folder + '/' + 'val'\n",
        "        self.num_train_sequences = len(self.train_doc)\n",
        "        self.num_val_sequences = len(self.val_doc)\n",
        "        \n",
        "    def initialize_image_properties(self,image_height=100,image_width=100):\n",
        "        self.image_height=image_height\n",
        "        self.image_width=image_width\n",
        "        self.channels=3\n",
        "        self.num_classes=5\n",
        "        self.total_frames=30\n",
        "          \n",
        "    def initialize_hyperparams(self,frames_to_sample=30,batch_size=20,num_epochs=20):\n",
        "        self.frames_to_sample=frames_to_sample\n",
        "        self.batch_size=batch_size\n",
        "        self.num_epochs=num_epochs\n",
        "        \n",
        "        \n",
        "    def generator(self,source_path, folder_list, augment=False):\n",
        "        img_idx = np.round(np.linspace(0,self.total_frames-1,self.frames_to_sample)).astype(int)\n",
        "        batch_size=self.batch_size\n",
        "        while True:\n",
        "            t = np.random.permutation(folder_list)\n",
        "            num_batches = len(t)//batch_size\n",
        "        \n",
        "            for batch in range(num_batches): \n",
        "                batch_data, batch_labels= self.one_batch_data(source_path,t,batch,batch_size,img_idx,augment)\n",
        "                yield batch_data, batch_labels \n",
        "\n",
        "            remaining_seq=len(t)%batch_size\n",
        "        \n",
        "            if (remaining_seq != 0):\n",
        "                batch_data, batch_labels= self.one_batch_data(source_path,t,num_batches,batch_size,img_idx,augment,remaining_seq)\n",
        "                yield batch_data, batch_labels \n",
        "    \n",
        "    \n",
        "    def one_batch_data(self,source_path,t,batch,batch_size,img_idx,augment,remaining_seq=0):\n",
        "    \n",
        "        seq_len = remaining_seq if remaining_seq else batch_size\n",
        "    \n",
        "        batch_data = np.zeros((seq_len,len(img_idx),self.image_height,self.image_width,self.channels)) \n",
        "        batch_labels = np.zeros((seq_len,self.num_classes)) \n",
        "    \n",
        "        if (augment): batch_data_aug = np.zeros((seq_len,len(img_idx),self.image_height,self.image_width,self.channels))\n",
        "\n",
        "        \n",
        "        for folder in range(seq_len): \n",
        "            imgs = os.listdir(source_path+'/'+ t[folder + (batch*batch_size)].split(';')[0]) \n",
        "            for idx,item in enumerate(img_idx): \n",
        "                image = imread(source_path+'/'+ t[folder + (batch*batch_size)].strip().split(';')[0]+'/'+imgs[item]).astype(np.float32)\n",
        "                image_resized=imresize(image,(self.image_height,self.image_width,3))\n",
        "            \n",
        "\n",
        "                batch_data[folder,idx,:,:,0] = (image_resized[:,:,0])/255\n",
        "                batch_data[folder,idx,:,:,1] = (image_resized[:,:,1])/255\n",
        "                batch_data[folder,idx,:,:,2] = (image_resized[:,:,2])/255\n",
        "            \n",
        "                if (augment):\n",
        "                    shifted = cv2.warpAffine(image, \n",
        "                                             np.float32([[1, 0, np.random.randint(-30,30)],[0, 1, np.random.randint(-30,30)]]), \n",
        "                                            (image.shape[1], image.shape[0]))\n",
        "                    \n",
        "                    gray = cv2.cvtColor(shifted,cv2.COLOR_BGR2GRAY)\n",
        "\n",
        "                    x0, y0 = np.argwhere(gray > 0).min(axis=0)\n",
        "                    x1, y1 = np.argwhere(gray > 0).max(axis=0) \n",
        "                    \n",
        "                    cropped=shifted[x0:x1,y0:y1,:]\n",
        "                    \n",
        "                    image_resized=imresize(cropped,(self.image_height,self.image_width,3))\n",
        "                    \n",
        "                    #shifted = cv2.warpAffine(image_resized, \n",
        "                    #                        np.float32([[1, 0, np.random.randint(-3,3)],[0, 1, np.random.randint(-3,3)]]), \n",
        "                    #                        (image_resized.shape[1], image_resized.shape[0]))\n",
        "            \n",
        "                    batch_data_aug[folder,idx,:,:,0] = (image_resized[:,:,0])/255\n",
        "                    batch_data_aug[folder,idx,:,:,1] = (image_resized[:,:,1])/255\n",
        "                    batch_data_aug[folder,idx,:,:,2] = (image_resized[:,:,2])/255\n",
        "                \n",
        "            \n",
        "            batch_labels[folder, int(t[folder + (batch*batch_size)].strip().split(';')[2])] = 1\n",
        "            \n",
        "    \n",
        "        if (augment):\n",
        "            batch_data=np.concatenate([batch_data,batch_data_aug])\n",
        "            batch_labels=np.concatenate([batch_labels,batch_labels])\n",
        "\n",
        "        \n",
        "        return(batch_data,batch_labels)\n",
        "    \n",
        "    \n",
        "    def train_model(self, model, augment_data=False):\n",
        "        train_generator = self.generator(self.train_path, self.train_doc,augment=augment_data)\n",
        "        val_generator = self.generator(self.val_path, self.val_doc)\n",
        "\n",
        "        model_name = 'model_init' + '_' + str(datetime.datetime.now()).replace(' ','').replace(':','_') + '/'\n",
        "    \n",
        "        if not os.path.exists(model_name):\n",
        "            os.mkdir(model_name)\n",
        "        \n",
        "        filepath = model_name + 'model-{epoch:05d}-{loss:.5f}-{categorical_accuracy:.5f}-{val_loss:.5f}-{val_categorical_accuracy:.5f}.h5'\n",
        "\n",
        "        checkpoint = ModelCheckpoint(filepath, monitor='val_loss', verbose=1, save_best_only=False, save_weights_only=False, mode='auto', period=1)\n",
        "        LR = ReduceLROnPlateau(monitor='val_loss', factor=0.2, verbose=1, patience=4)\n",
        "        callbacks_list = [checkpoint, LR]\n",
        "\n",
        "        if (self.num_train_sequences%self.batch_size) == 0:\n",
        "            steps_per_epoch = int(self.num_train_sequences/self.batch_size)\n",
        "        else:\n",
        "            steps_per_epoch = (self.num_train_sequences//self.batch_size) + 1\n",
        "\n",
        "        if (self.num_val_sequences%self.batch_size) == 0:\n",
        "            validation_steps = int(self.num_val_sequences/self.batch_size)\n",
        "        else:\n",
        "            validation_steps = (self.num_val_sequences//self.batch_size) + 1\n",
        "    \n",
        "        history=model.fit_generator(train_generator, steps_per_epoch=steps_per_epoch, epochs=self.num_epochs, verbose=1, \n",
        "                            callbacks=callbacks_list, validation_data=val_generator, \n",
        "                            validation_steps=validation_steps, class_weight=None, workers=1, initial_epoch=0)\n",
        "        return history\n",
        "\n",
        "        \n",
        "    @abc.abstractmethod\n",
        "    def define_model(self):\n",
        "        pass"
      ],
      "execution_count": null,
      "outputs": []
    },
    {
      "cell_type": "markdown",
      "metadata": {
        "id": "ak9vAZpdM7Cl",
        "colab_type": "text"
      },
      "source": [
        "Note here that a video is represented above in the generator as (number of images, height, width, number of channels). Take this into consideration while creating the model architecture."
      ]
    },
    {
      "cell_type": "markdown",
      "metadata": {
        "id": "Hwc911PzM7Cm",
        "colab_type": "text"
      },
      "source": [
        "## Model\n",
        "Here you make the model using different functionalities that Keras provides. Remember to use `Conv3D` and `MaxPooling3D` and not `Conv2D` and `Maxpooling2D` for a 3D convolution model. You would want to use `TimeDistributed` while building a Conv2D + RNN model. Also remember that the last layer is the softmax. Design the network in such a way that the model is able to give good accuracy on the least number of parameters so that it can fit in the memory of the webcam."
      ]
    },
    {
      "cell_type": "markdown",
      "metadata": {
        "id": "zVoYEZiWM7Cn",
        "colab_type": "text"
      },
      "source": [
        "## Sample Model"
      ]
    },
    {
      "cell_type": "code",
      "metadata": {
        "id": "Wrp90KpaM7Cq",
        "colab_type": "code",
        "colab": {}
      },
      "source": [
        "class ModelConv3D1(ModelBuilder):\n",
        "    \n",
        "    def define_model(self):\n",
        "\n",
        "        model = Sequential()\n",
        "        model.add(Conv3D(16, (3, 3, 3), padding='same',\n",
        "                 input_shape=(self.frames_to_sample,self.image_height,self.image_width,self.channels)))\n",
        "        model.add(Activation('relu'))\n",
        "        model.add(BatchNormalization())\n",
        "        model.add(MaxPooling3D(pool_size=(2, 2, 2)))\n",
        "\n",
        "        model.add(Conv3D(32, (2, 2, 2), padding='same'))\n",
        "        model.add(Activation('relu'))\n",
        "        model.add(BatchNormalization())\n",
        "        model.add(MaxPooling3D(pool_size=(2, 2, 2)))\n",
        "\n",
        "        model.add(Conv3D(64, (2, 2, 2), padding='same'))\n",
        "        model.add(Activation('relu'))\n",
        "        model.add(BatchNormalization())\n",
        "        model.add(MaxPooling3D(pool_size=(2, 2, 2)))\n",
        "\n",
        "        model.add(Conv3D(128, (2, 2, 2), padding='same'))\n",
        "        model.add(Activation('relu'))\n",
        "        model.add(BatchNormalization())\n",
        "        model.add(MaxPooling3D(pool_size=(2, 2, 2)))\n",
        "\n",
        "        model.add(Flatten())\n",
        "        model.add(Dense(128,activation='relu'))\n",
        "        model.add(BatchNormalization())\n",
        "        model.add(Dropout(0.5))\n",
        "\n",
        "        model.add(Dense(64,activation='relu'))\n",
        "        model.add(BatchNormalization())\n",
        "        model.add(Dropout(0.25))\n",
        "\n",
        "\n",
        "        model.add(Dense(self.num_classes,activation='softmax'))\n",
        "\n",
        "        optimiser = optimizers.Adam()\n",
        "        #optimiser = 'sgd'\n",
        "        model.compile(optimizer=optimiser, loss='categorical_crossentropy', metrics=['categorical_accuracy'])\n",
        "        return model"
      ],
      "execution_count": null,
      "outputs": []
    },
    {
      "cell_type": "code",
      "metadata": {
        "id": "BUMajw1ZM7Cu",
        "colab_type": "code",
        "colab": {},
        "outputId": "776a8fb5-d81f-43fa-985f-d31979fa6d2c"
      },
      "source": [
        "conv_3d1=ModelConv3D1()\n",
        "conv_3d1.initialize_path(project_folder)\n",
        "conv_3d1.initialize_image_properties(image_height=160,image_width=160)\n",
        "conv_3d1.initialize_hyperparams(frames_to_sample=30,batch_size=40,num_epochs=1)\n",
        "conv_3d1_model=conv_3d1.define_model()\n",
        "conv_3d1_model.summary()"
      ],
      "execution_count": null,
      "outputs": [
        {
          "output_type": "stream",
          "text": [
            "_________________________________________________________________\n",
            "Layer (type)                 Output Shape              Param #   \n",
            "=================================================================\n",
            "conv3d_1 (Conv3D)            (None, 30, 160, 160, 16)  1312      \n",
            "_________________________________________________________________\n",
            "activation_1 (Activation)    (None, 30, 160, 160, 16)  0         \n",
            "_________________________________________________________________\n",
            "batch_normalization_1 (Batch (None, 30, 160, 160, 16)  64        \n",
            "_________________________________________________________________\n",
            "max_pooling3d_1 (MaxPooling3 (None, 15, 80, 80, 16)    0         \n",
            "_________________________________________________________________\n",
            "conv3d_2 (Conv3D)            (None, 15, 80, 80, 32)    4128      \n",
            "_________________________________________________________________\n",
            "activation_2 (Activation)    (None, 15, 80, 80, 32)    0         \n",
            "_________________________________________________________________\n",
            "batch_normalization_2 (Batch (None, 15, 80, 80, 32)    128       \n",
            "_________________________________________________________________\n",
            "max_pooling3d_2 (MaxPooling3 (None, 7, 40, 40, 32)     0         \n",
            "_________________________________________________________________\n",
            "conv3d_3 (Conv3D)            (None, 7, 40, 40, 64)     16448     \n",
            "_________________________________________________________________\n",
            "activation_3 (Activation)    (None, 7, 40, 40, 64)     0         \n",
            "_________________________________________________________________\n",
            "batch_normalization_3 (Batch (None, 7, 40, 40, 64)     256       \n",
            "_________________________________________________________________\n",
            "max_pooling3d_3 (MaxPooling3 (None, 3, 20, 20, 64)     0         \n",
            "_________________________________________________________________\n",
            "conv3d_4 (Conv3D)            (None, 3, 20, 20, 128)    65664     \n",
            "_________________________________________________________________\n",
            "activation_4 (Activation)    (None, 3, 20, 20, 128)    0         \n",
            "_________________________________________________________________\n",
            "batch_normalization_4 (Batch (None, 3, 20, 20, 128)    512       \n",
            "_________________________________________________________________\n",
            "max_pooling3d_4 (MaxPooling3 (None, 1, 10, 10, 128)    0         \n",
            "_________________________________________________________________\n",
            "flatten_1 (Flatten)          (None, 12800)             0         \n",
            "_________________________________________________________________\n",
            "dense_1 (Dense)              (None, 128)               1638528   \n",
            "_________________________________________________________________\n",
            "batch_normalization_5 (Batch (None, 128)               512       \n",
            "_________________________________________________________________\n",
            "dropout_1 (Dropout)          (None, 128)               0         \n",
            "_________________________________________________________________\n",
            "dense_2 (Dense)              (None, 64)                8256      \n",
            "_________________________________________________________________\n",
            "batch_normalization_6 (Batch (None, 64)                256       \n",
            "_________________________________________________________________\n",
            "dropout_2 (Dropout)          (None, 64)                0         \n",
            "_________________________________________________________________\n",
            "dense_3 (Dense)              (None, 5)                 325       \n",
            "=================================================================\n",
            "Total params: 1,736,389\n",
            "Trainable params: 1,735,525\n",
            "Non-trainable params: 864\n",
            "_________________________________________________________________\n"
          ],
          "name": "stdout"
        }
      ]
    },
    {
      "cell_type": "markdown",
      "metadata": {
        "id": "Wb5nQm7DM7Cz",
        "colab_type": "text"
      },
      "source": [
        "### Sample Cropping"
      ]
    },
    {
      "cell_type": "code",
      "metadata": {
        "id": "Izx0Tu2yM7Cz",
        "colab_type": "code",
        "colab": {},
        "outputId": "19f3f5f5-9806-4ed9-ef80-4d0060b97300"
      },
      "source": [
        "test_generator=ModelConv3D1()\n",
        "test_generator.initialize_path(project_folder)\n",
        "test_generator.initialize_image_properties(image_height=160,image_width=160)\n",
        "test_generator.initialize_hyperparams(frames_to_sample=30,batch_size=3,num_epochs=1)\n",
        "\n",
        "g=test_generator.generator(test_generator.val_path,test_generator.val_doc,augment=True)\n",
        "batch_data, batch_labels=next(g)\n",
        "fig, axes = plt.subplots(nrows=1, ncols=2)\n",
        "axes[0].imshow(batch_data[0,15,:,:,:])   \n",
        "axes[1].imshow(batch_data[3,15,:,:,:])   "
      ],
      "execution_count": null,
      "outputs": [
        {
          "output_type": "execute_result",
          "data": {
            "text/plain": [
              "<matplotlib.image.AxesImage at 0x7f52c0671be0>"
            ]
          },
          "metadata": {
            "tags": []
          },
          "execution_count": 11
        },
        {
          "output_type": "display_data",
          "data": {
            "image/png": "[encoded data removed]",
            "text/plain": [
              "<Figure size 432x288 with 2 Axes>"
            ]
          },
          "metadata": {
            "tags": []
          }
        }
      ]
    },
    {
      "cell_type": "code",
      "metadata": {
        "id": "2ixjRWYCM7C5",
        "colab_type": "code",
        "colab": {}
      },
      "source": [
        "#conv_3d1.train_model(conv_3d1_model)"
      ],
      "execution_count": null,
      "outputs": []
    },
    {
      "cell_type": "markdown",
      "metadata": {
        "id": "y5zzS9j6M7C-",
        "colab_type": "text"
      },
      "source": [
        "### We had hit the limit on memory resources with image resolution of 160x160 with 30 frames and batch_size of 40...we get the below error:\n",
        "ResourceExhaustedError: OOM when allocating tensor with shape[40,16,30,160,160] and type float on /job:localhost/replica:0/task:0/device:GPU:0 by allocator GPU_0_bfc"
      ]
    },
    {
      "cell_type": "code",
      "metadata": {
        "id": "BgrtU-BnM7C_",
        "colab_type": "code",
        "colab": {},
        "outputId": "b7f2bfa9-5628-4b25-dde2-a76e5a08005d"
      },
      "source": [
        "print(\"Memory util is {} Gigs\". format(getsizeof(np.zeros((40,16,30,160,160)))/(1024*1024*1024)))"
      ],
      "execution_count": null,
      "outputs": [
        {
          "output_type": "stream",
          "text": [
            "Memory util is 3.662109524011612 Gigs\n"
          ],
          "name": "stdout"
        }
      ]
    },
    {
      "cell_type": "markdown",
      "metadata": {
        "id": "HNJkNVmgM7DE",
        "colab_type": "text"
      },
      "source": [
        "### Few Experiments to analyse how training time and validation accuracy is affected by batch size, no. of images in sequence and image resolution:"
      ]
    },
    {
      "cell_type": "code",
      "metadata": {
        "id": "ie4OEDzGM7DF",
        "colab_type": "code",
        "colab": {},
        "outputId": "df9aabba-a4b4-4347-c205-07c4c1744da2"
      },
      "source": [
        "conv_3d1=ModelConv3D1()\n",
        "conv_3d1.initialize_path(project_folder)\n",
        "conv_3d1.initialize_image_properties(image_height=160,image_width=160)\n",
        "conv_3d1.initialize_hyperparams(frames_to_sample=16,batch_size=30,num_epochs=3)\n",
        "conv_3d1_model=conv_3d1.define_model()\n",
        "print(\"Total Params:\", conv_3d1_model.count_params())\n",
        "conv_3d1.train_model(conv_3d1_model)"
      ],
      "execution_count": null,
      "outputs": [
        {
          "output_type": "stream",
          "text": [
            "Total Params: 1736389\n",
            "Epoch 1/3\n",
            "23/23 [==============================] - 138s 6s/step - loss: 1.4474 - categorical_accuracy: 0.4750 - val_loss: 2.6125 - val_categorical_accuracy: 0.3400\n",
            "\n",
            "Epoch 00001: saving model to model_init_2020-06-2715_15_18.409820/model-00001-1.45806-0.46757-2.61252-0.34000.h5\n",
            "Epoch 2/3\n",
            "23/23 [==============================] - 47s 2s/step - loss: 1.0812 - categorical_accuracy: 0.5662 - val_loss: 2.9923 - val_categorical_accuracy: 0.2600\n",
            "\n",
            "Epoch 00002: saving model to model_init_2020-06-2715_15_18.409820/model-00002-1.05233-0.58824-2.99227-0.26000.h5\n",
            "Epoch 3/3\n",
            "23/23 [==============================] - 48s 2s/step - loss: 0.9188 - categorical_accuracy: 0.6356 - val_loss: 1.8100 - val_categorical_accuracy: 0.3500\n",
            "\n",
            "Epoch 00003: saving model to model_init_2020-06-2715_15_18.409820/model-00003-0.94861-0.62142-1.80997-0.35000.h5\n"
          ],
          "name": "stdout"
        },
        {
          "output_type": "execute_result",
          "data": {
            "text/plain": [
              "<keras.callbacks.History at 0x7f5b3a38be48>"
            ]
          },
          "metadata": {
            "tags": []
          },
          "execution_count": 10
        }
      ]
    },
    {
      "cell_type": "code",
      "metadata": {
        "id": "7b8951TAM7DJ",
        "colab_type": "code",
        "colab": {},
        "outputId": "9c27204a-3df4-4801-ed7e-e0cc06674da2"
      },
      "source": [
        "conv_3d1=ModelConv3D1()\n",
        "conv_3d1.initialize_path(project_folder)\n",
        "conv_3d1.initialize_image_properties(image_height=100,image_width=100)\n",
        "conv_3d1.initialize_hyperparams(frames_to_sample=30,batch_size=30,num_epochs=2)\n",
        "conv_3d1_model=conv_3d1.define_model()\n",
        "print(\"Total Params:\", conv_3d1_model.count_params())\n",
        "conv_3d1.train_model(conv_3d1_model)"
      ],
      "execution_count": null,
      "outputs": [
        {
          "output_type": "stream",
          "text": [
            "Total Params: 687813\n",
            "Epoch 1/2\n",
            "23/23 [==============================] - 165s 7s/step - loss: 1.7659 - categorical_accuracy: 0.3304 - val_loss: 1.6853 - val_categorical_accuracy: 0.4400\n",
            "\n",
            "Epoch 00001: saving model to model_init_2020-06-2812_00_16.470973/model-00001-1.77010-0.33032-1.68532-0.44000.h5\n",
            "Epoch 2/2\n",
            "23/23 [==============================] - 73s 3s/step - loss: 1.2013 - categorical_accuracy: 0.5003 - val_loss: 1.4236 - val_categorical_accuracy: 0.4600\n",
            "\n",
            "Epoch 00002: saving model to model_init_2020-06-2812_00_16.470973/model-00002-1.20377-0.50679-1.42364-0.46000.h5\n"
          ],
          "name": "stdout"
        },
        {
          "output_type": "execute_result",
          "data": {
            "text/plain": [
              "<keras.callbacks.History at 0x7f529f928ba8>"
            ]
          },
          "metadata": {
            "tags": []
          },
          "execution_count": 14
        }
      ]
    },
    {
      "cell_type": "code",
      "metadata": {
        "id": "dsr4-AEMM7DO",
        "colab_type": "code",
        "colab": {},
        "outputId": "1adc26b4-c360-43d8-ce42-d1e5e5e0ece6"
      },
      "source": [
        "conv_3d1=ModelConv3D1()\n",
        "conv_3d1.initialize_path(project_folder)\n",
        "conv_3d1.initialize_image_properties(image_height=100,image_width=100)\n",
        "conv_3d1.initialize_hyperparams(frames_to_sample=30,batch_size=60,num_epochs=2)\n",
        "conv_3d1_model=conv_3d1.define_model()\n",
        "print(\"Total Params:\", conv_3d1_model.count_params())\n",
        "conv_3d1.train_model(conv_3d1_model)"
      ],
      "execution_count": null,
      "outputs": [
        {
          "output_type": "stream",
          "text": [
            "Total Params: 687813\n",
            "Epoch 1/2\n",
            "12/12 [==============================] - 91s 8s/step - loss: 1.6657 - categorical_accuracy: 0.3633 - val_loss: 2.1297 - val_categorical_accuracy: 0.3400\n",
            "\n",
            "Epoch 00001: saving model to model_init_2020-06-2812_05_37.998548/model-00001-1.75681-0.33937-2.12974-0.34000.h5\n",
            "Epoch 2/2\n",
            "12/12 [==============================] - 73s 6s/step - loss: 1.2018 - categorical_accuracy: 0.5045 - val_loss: 1.7285 - val_categorical_accuracy: 0.4000\n",
            "\n",
            "Epoch 00002: saving model to model_init_2020-06-2812_05_37.998548/model-00002-1.24325-0.49170-1.72854-0.40000.h5\n"
          ],
          "name": "stdout"
        },
        {
          "output_type": "execute_result",
          "data": {
            "text/plain": [
              "<keras.callbacks.History at 0x7f529e457400>"
            ]
          },
          "metadata": {
            "tags": []
          },
          "execution_count": 15
        }
      ]
    },
    {
      "cell_type": "code",
      "metadata": {
        "id": "7SUGYCfuM7DT",
        "colab_type": "code",
        "colab": {},
        "outputId": "656b901d-6894-4e23-b527-97ca4ed86fb0"
      },
      "source": [
        "conv_3d1=ModelConv3D1()\n",
        "conv_3d1.initialize_path(project_folder)\n",
        "conv_3d1.initialize_image_properties(image_height=160,image_width=160)\n",
        "conv_3d1.initialize_hyperparams(frames_to_sample=30,batch_size=15,num_epochs=2)\n",
        "conv_3d1_model=conv_3d1.define_model()\n",
        "print(\"Total Params:\", conv_3d1_model.count_params())\n",
        "conv_3d1.train_model(conv_3d1_model)"
      ],
      "execution_count": null,
      "outputs": [
        {
          "output_type": "stream",
          "text": [
            "Total Params: 1736389\n",
            "Epoch 1/2\n",
            "45/45 [==============================] - 98s 2s/step - loss: 1.5858 - categorical_accuracy: 0.4371 - val_loss: 3.1527 - val_categorical_accuracy: 0.2900\n",
            "\n",
            "Epoch 00001: saving model to model_init_2020-06-2812_11_16.794376/model-00001-1.59271-0.43891-3.15269-0.29000.h5\n",
            "Epoch 2/2\n",
            "45/45 [==============================] - 86s 2s/step - loss: 1.1250 - categorical_accuracy: 0.5482 - val_loss: 1.5918 - val_categorical_accuracy: 0.5200\n",
            "\n",
            "Epoch 00002: saving model to model_init_2020-06-2812_11_16.794376/model-00002-1.10777-0.55204-1.59179-0.52000.h5\n"
          ],
          "name": "stdout"
        },
        {
          "output_type": "execute_result",
          "data": {
            "text/plain": [
              "<keras.callbacks.History at 0x7f529ce67d30>"
            ]
          },
          "metadata": {
            "tags": []
          },
          "execution_count": 16
        }
      ]
    },
    {
      "cell_type": "code",
      "metadata": {
        "id": "VBR5hoqAM7DZ",
        "colab_type": "code",
        "colab": {},
        "outputId": "7314329b-ec7e-44f4-9605-0c1c6b4d5d83"
      },
      "source": [
        "conv_3d1=ModelConv3D1()\n",
        "conv_3d1.initialize_path(project_folder)\n",
        "conv_3d1.initialize_image_properties(image_height=160,image_width=160)\n",
        "conv_3d1.initialize_hyperparams(frames_to_sample=16,batch_size=15,num_epochs=2)\n",
        "conv_3d1_model=conv_3d1.define_model()\n",
        "print(\"Total Params:\", conv_3d1_model.count_params())\n",
        "conv_3d1.train_model(conv_3d1_model)"
      ],
      "execution_count": null,
      "outputs": [
        {
          "output_type": "stream",
          "text": [
            "Total Params: 1736389\n",
            "Epoch 1/2\n",
            "45/45 [==============================] - 54s 1s/step - loss: 1.6066 - categorical_accuracy: 0.3822 - val_loss: 1.2204 - val_categorical_accuracy: 0.5400\n",
            "\n",
            "Epoch 00001: saving model to model_init_2020-06-2812_15_13.651467/model-00001-1.61387-0.38311-1.22039-0.54000.h5\n",
            "Epoch 2/2\n",
            "45/45 [==============================] - 45s 994ms/step - loss: 1.1504 - categorical_accuracy: 0.5601 - val_loss: 0.8743 - val_categorical_accuracy: 0.7000\n",
            "\n",
            "Epoch 00002: saving model to model_init_2020-06-2812_15_13.651467/model-00002-1.13907-0.56410-0.87425-0.70000.h5\n"
          ],
          "name": "stdout"
        },
        {
          "output_type": "execute_result",
          "data": {
            "text/plain": [
              "<keras.callbacks.History at 0x7f529b8e2d30>"
            ]
          },
          "metadata": {
            "tags": []
          },
          "execution_count": 17
        }
      ]
    },
    {
      "cell_type": "code",
      "metadata": {
        "id": "mGt9PprrM7Dg",
        "colab_type": "code",
        "colab": {},
        "outputId": "1f87e669-f9d1-47eb-ab6f-b7e5fed8f06b"
      },
      "source": [
        "conv_3d1=ModelConv3D1()\n",
        "conv_3d1.initialize_path(project_folder)\n",
        "conv_3d1.initialize_image_properties(image_height=160,image_width=160)\n",
        "conv_3d1.initialize_hyperparams(frames_to_sample=16,batch_size=10,num_epochs=2)\n",
        "conv_3d1_model=conv_3d1.define_model()\n",
        "print(\"Total Params:\", conv_3d1_model.count_params())\n",
        "conv_3d1.train_model(conv_3d1_model)"
      ],
      "execution_count": null,
      "outputs": [
        {
          "output_type": "stream",
          "text": [
            "Total Params: 1736389\n",
            "Epoch 1/2\n",
            "67/67 [==============================] - 52s 774ms/step - loss: 1.6370 - categorical_accuracy: 0.3677 - val_loss: 1.1881 - val_categorical_accuracy: 0.5300\n",
            "\n",
            "Epoch 00001: saving model to model_init_2020-06-2812_17_55.629634/model-00001-1.64344-0.36802-1.18813-0.53000.h5\n",
            "Epoch 2/2\n",
            "67/67 [==============================] - 45s 676ms/step - loss: 1.2558 - categorical_accuracy: 0.4841 - val_loss: 1.0299 - val_categorical_accuracy: 0.5600\n",
            "\n",
            "Epoch 00002: saving model to model_init_2020-06-2812_17_55.629634/model-00002-1.24523-0.48567-1.02990-0.56000.h5\n"
          ],
          "name": "stdout"
        },
        {
          "output_type": "execute_result",
          "data": {
            "text/plain": [
              "<keras.callbacks.History at 0x7f529a397eb8>"
            ]
          },
          "metadata": {
            "tags": []
          },
          "execution_count": 18
        }
      ]
    },
    {
      "cell_type": "code",
      "metadata": {
        "id": "pHESAB0sM7Dm",
        "colab_type": "code",
        "colab": {},
        "outputId": "af379650-d225-4049-ccce-7499e59de3fa"
      },
      "source": [
        "conv_3d1=ModelConv3D1()\n",
        "conv_3d1.initialize_path(project_folder)\n",
        "conv_3d1.initialize_image_properties(image_height=160,image_width=160)\n",
        "conv_3d1.initialize_hyperparams(frames_to_sample=16,batch_size=40,num_epochs=2)\n",
        "conv_3d1_model=conv_3d1.define_model()\n",
        "print(\"Total Params:\", conv_3d1_model.count_params())\n",
        "conv_3d1.train_model(conv_3d1_model)"
      ],
      "execution_count": null,
      "outputs": [
        {
          "output_type": "stream",
          "text": [
            "Total Params: 1736389\n",
            "Epoch 1/2\n",
            "17/17 [==============================] - 58s 3s/step - loss: 1.5889 - categorical_accuracy: 0.4071 - val_loss: 1.5133 - val_categorical_accuracy: 0.3600\n",
            "\n",
            "Epoch 00001: saving model to model_init_2020-06-2812_20_19.220909/model-00001-1.59762-0.40121-1.51328-0.36000.h5\n",
            "Epoch 2/2\n",
            "17/17 [==============================] - 42s 2s/step - loss: 0.9548 - categorical_accuracy: 0.6363 - val_loss: 1.0003 - val_categorical_accuracy: 0.5400\n",
            "\n",
            "Epoch 00002: saving model to model_init_2020-06-2812_20_19.220909/model-00002-0.94619-0.63801-1.00031-0.54000.h5\n"
          ],
          "name": "stdout"
        },
        {
          "output_type": "execute_result",
          "data": {
            "text/plain": [
              "<keras.callbacks.History at 0x7f5298f0c3c8>"
            ]
          },
          "metadata": {
            "tags": []
          },
          "execution_count": 19
        }
      ]
    },
    {
      "cell_type": "markdown",
      "metadata": {
        "id": "pMykCAVsM7Dr",
        "colab_type": "text"
      },
      "source": [
        "### Few Observations made:\n",
        "1. Image resolution and number of frames in sequence have more impact on training time than batch_size. \n",
        "2. Though Higher resolution is giving better validation accuracy. So we need to keep a balance. \n",
        "\n",
        "So experimentations are carried with batch size fixed around 15-40 and changing the resolution and number of image per sequence based on the device memory constraints ."
      ]
    },
    {
      "cell_type": "markdown",
      "metadata": {
        "id": "sYNROsdHM7Dr",
        "colab_type": "text"
      },
      "source": [
        "Now that you have written the model, the next step is to `compile` the model. When you print the `summary` of the model, you'll see the total number of parameters you have to train."
      ]
    },
    {
      "cell_type": "markdown",
      "metadata": {
        "id": "Npko5N6LM7Ds",
        "colab_type": "text"
      },
      "source": [
        "## Model 1 - Base Model - No Data Augmentation Batch Size 40 and Epoch 15"
      ]
    },
    {
      "cell_type": "code",
      "metadata": {
        "id": "fBGxQlM0M7Dt",
        "colab_type": "code",
        "colab": {}
      },
      "source": [
        "class ModelConv3D1(ModelBuilder):\n",
        "    \n",
        "    def define_model(self,filtersize=(3,3,3),dense_neurons=64,dropout=0.25):\n",
        "\n",
        "        model = Sequential()\n",
        "        model.add(Conv3D(16, filtersize, padding='same',\n",
        "                 input_shape=(self.frames_to_sample,self.image_height,self.image_width,self.channels)))\n",
        "        model.add(Activation('relu'))\n",
        "        model.add(BatchNormalization())\n",
        "        model.add(MaxPooling3D(pool_size=(2, 2, 2)))\n",
        "\n",
        "        model.add(Conv3D(32, filtersize, padding='same'))\n",
        "        model.add(Activation('relu'))\n",
        "        model.add(BatchNormalization())\n",
        "        model.add(MaxPooling3D(pool_size=(2, 2, 2)))\n",
        "\n",
        "        model.add(Conv3D(64, filtersize, padding='same'))\n",
        "        model.add(Activation('relu'))\n",
        "        model.add(BatchNormalization())\n",
        "        model.add(MaxPooling3D(pool_size=(2, 2, 2)))\n",
        "\n",
        "        model.add(Conv3D(128, filtersize, padding='same'))\n",
        "        model.add(Activation('relu'))\n",
        "        model.add(BatchNormalization())\n",
        "        model.add(MaxPooling3D(pool_size=(2, 2, 2)))\n",
        "\n",
        "        model.add(Flatten())\n",
        "        model.add(Dense(dense_neurons,activation='relu'))\n",
        "        model.add(BatchNormalization())\n",
        "        model.add(Dropout(dropout))\n",
        "\n",
        "        model.add(Dense(dense_neurons,activation='relu'))\n",
        "        model.add(BatchNormalization())\n",
        "        model.add(Dropout(dropout))\n",
        "\n",
        "\n",
        "        model.add(Dense(self.num_classes,activation='softmax'))\n",
        "\n",
        "        optimiser = optimizers.Adam()\n",
        "        model.compile(optimizer=optimiser, loss='categorical_crossentropy', metrics=['categorical_accuracy'])\n",
        "        return model"
      ],
      "execution_count": null,
      "outputs": []
    },
    {
      "cell_type": "code",
      "metadata": {
        "id": "KQ_4v-rhM7Dx",
        "colab_type": "code",
        "colab": {},
        "outputId": "5039ce1b-dcca-4cac-d520-741ece2de847"
      },
      "source": [
        "conv_3d1=ModelConv3D1()\n",
        "conv_3d1.initialize_path(project_folder)\n",
        "conv_3d1.initialize_image_properties(image_height=160,image_width=160)\n",
        "conv_3d1.initialize_hyperparams(frames_to_sample=20,batch_size=40,num_epochs=15)\n",
        "conv_3d1_model=conv_3d1.define_model()\n",
        "conv_3d1_model.summary()"
      ],
      "execution_count": null,
      "outputs": [
        {
          "output_type": "stream",
          "text": [
            "_________________________________________________________________\n",
            "Layer (type)                 Output Shape              Param #   \n",
            "=================================================================\n",
            "conv3d_9 (Conv3D)            (None, 20, 160, 160, 16)  1312      \n",
            "_________________________________________________________________\n",
            "activation_9 (Activation)    (None, 20, 160, 160, 16)  0         \n",
            "_________________________________________________________________\n",
            "batch_normalization_13 (Batc (None, 20, 160, 160, 16)  64        \n",
            "_________________________________________________________________\n",
            "max_pooling3d_9 (MaxPooling3 (None, 10, 80, 80, 16)    0         \n",
            "_________________________________________________________________\n",
            "conv3d_10 (Conv3D)           (None, 10, 80, 80, 32)    13856     \n",
            "_________________________________________________________________\n",
            "activation_10 (Activation)   (None, 10, 80, 80, 32)    0         \n",
            "_________________________________________________________________\n",
            "batch_normalization_14 (Batc (None, 10, 80, 80, 32)    128       \n",
            "_________________________________________________________________\n",
            "max_pooling3d_10 (MaxPooling (None, 5, 40, 40, 32)     0         \n",
            "_________________________________________________________________\n",
            "conv3d_11 (Conv3D)           (None, 5, 40, 40, 64)     55360     \n",
            "_________________________________________________________________\n",
            "activation_11 (Activation)   (None, 5, 40, 40, 64)     0         \n",
            "_________________________________________________________________\n",
            "batch_normalization_15 (Batc (None, 5, 40, 40, 64)     256       \n",
            "_________________________________________________________________\n",
            "max_pooling3d_11 (MaxPooling (None, 2, 20, 20, 64)     0         \n",
            "_________________________________________________________________\n",
            "conv3d_12 (Conv3D)           (None, 2, 20, 20, 128)    221312    \n",
            "_________________________________________________________________\n",
            "activation_12 (Activation)   (None, 2, 20, 20, 128)    0         \n",
            "_________________________________________________________________\n",
            "batch_normalization_16 (Batc (None, 2, 20, 20, 128)    512       \n",
            "_________________________________________________________________\n",
            "max_pooling3d_12 (MaxPooling (None, 1, 10, 10, 128)    0         \n",
            "_________________________________________________________________\n",
            "flatten_3 (Flatten)          (None, 12800)             0         \n",
            "_________________________________________________________________\n",
            "dense_7 (Dense)              (None, 64)                819264    \n",
            "_________________________________________________________________\n",
            "batch_normalization_17 (Batc (None, 64)                256       \n",
            "_________________________________________________________________\n",
            "dropout_5 (Dropout)          (None, 64)                0         \n",
            "_________________________________________________________________\n",
            "dense_8 (Dense)              (None, 64)                4160      \n",
            "_________________________________________________________________\n",
            "batch_normalization_18 (Batc (None, 64)                256       \n",
            "_________________________________________________________________\n",
            "dropout_6 (Dropout)          (None, 64)                0         \n",
            "_________________________________________________________________\n",
            "dense_9 (Dense)              (None, 5)                 325       \n",
            "=================================================================\n",
            "Total params: 1,117,061\n",
            "Trainable params: 1,116,325\n",
            "Non-trainable params: 736\n",
            "_________________________________________________________________\n"
          ],
          "name": "stdout"
        }
      ]
    },
    {
      "cell_type": "code",
      "metadata": {
        "id": "IvKVOibBM7D1",
        "colab_type": "code",
        "colab": {},
        "outputId": "08e58498-a454-4e75-c600-214b171ecbb4"
      },
      "source": [
        "print(\"Total Params:\", conv_3d1_model.count_params())\n",
        "history_model1 = conv_3d1.train_model(conv_3d1_model)"
      ],
      "execution_count": null,
      "outputs": [
        {
          "output_type": "stream",
          "text": [
            "Total Params: 1117061\n",
            "Epoch 1/15\n",
            "17/17 [==============================] - 129s 8s/step - loss: 1.4444 - categorical_accuracy: 0.4718 - val_loss: 1.9930 - val_categorical_accuracy: 0.4600\n",
            "\n",
            "Epoch 00001: saving model to model_init_2020-06-2715_21_50.523285/model-00001-1.44071-0.47059-1.99304-0.46000.h5\n",
            "Epoch 2/15\n",
            "17/17 [==============================] - 56s 3s/step - loss: 0.9412 - categorical_accuracy: 0.6207 - val_loss: 1.7345 - val_categorical_accuracy: 0.4800\n",
            "\n",
            "Epoch 00002: saving model to model_init_2020-06-2715_21_50.523285/model-00002-0.94524-0.61991-1.73450-0.48000.h5\n",
            "Epoch 3/15\n",
            "17/17 [==============================] - 59s 3s/step - loss: 0.7714 - categorical_accuracy: 0.7095 - val_loss: 1.2080 - val_categorical_accuracy: 0.5800\n",
            "\n",
            "Epoch 00003: saving model to model_init_2020-06-2715_21_50.523285/model-00003-0.76902-0.71192-1.20799-0.58000.h5\n",
            "Epoch 4/15\n",
            "17/17 [==============================] - 59s 3s/step - loss: 0.5329 - categorical_accuracy: 0.8043 - val_loss: 0.8828 - val_categorical_accuracy: 0.6700\n",
            "\n",
            "Epoch 00004: saving model to model_init_2020-06-2715_21_50.523285/model-00004-0.53301-0.80694-0.88278-0.67000.h5\n",
            "Epoch 5/15\n",
            "17/17 [==============================] - 58s 3s/step - loss: 0.4456 - categorical_accuracy: 0.8447 - val_loss: 0.5560 - val_categorical_accuracy: 0.7800\n",
            "\n",
            "Epoch 00005: saving model to model_init_2020-06-2715_21_50.523285/model-00005-0.43953-0.84615-0.55600-0.78000.h5\n",
            "Epoch 6/15\n",
            "17/17 [==============================] - 59s 3s/step - loss: 0.3371 - categorical_accuracy: 0.8851 - val_loss: 0.7055 - val_categorical_accuracy: 0.7700\n",
            "\n",
            "Epoch 00006: saving model to model_init_2020-06-2715_21_50.523285/model-00006-0.34076-0.88235-0.70552-0.77000.h5\n",
            "Epoch 7/15\n",
            "17/17 [==============================] - 59s 3s/step - loss: 0.2583 - categorical_accuracy: 0.9390 - val_loss: 1.0102 - val_categorical_accuracy: 0.6700\n",
            "\n",
            "Epoch 00007: saving model to model_init_2020-06-2715_21_50.523285/model-00007-0.25333-0.93967-1.01017-0.67000.h5\n",
            "Epoch 8/15\n",
            "17/17 [==============================] - 58s 3s/step - loss: 0.1961 - categorical_accuracy: 0.9420 - val_loss: 0.9784 - val_categorical_accuracy: 0.7000\n",
            "\n",
            "Epoch 00008: saving model to model_init_2020-06-2715_21_50.523285/model-00008-0.19629-0.94268-0.97837-0.70000.h5\n",
            "Epoch 9/15\n",
            "17/17 [==============================] - 59s 3s/step - loss: 0.1702 - categorical_accuracy: 0.9611 - val_loss: 1.3001 - val_categorical_accuracy: 0.6000\n",
            "\n",
            "Epoch 00009: saving model to model_init_2020-06-2715_21_50.523285/model-00009-0.16729-0.96229-1.30007-0.60000.h5\n",
            "\n",
            "Epoch 00009: ReduceLROnPlateau reducing learning rate to 0.00020000000949949026.\n",
            "Epoch 10/15\n",
            "17/17 [==============================] - 58s 3s/step - loss: 0.1337 - categorical_accuracy: 0.9685 - val_loss: 1.0968 - val_categorical_accuracy: 0.6600\n",
            "\n",
            "Epoch 00010: saving model to model_init_2020-06-2715_21_50.523285/model-00010-0.13108-0.96983-1.09684-0.66000.h5\n",
            "Epoch 11/15\n",
            "17/17 [==============================] - 59s 3s/step - loss: 0.0876 - categorical_accuracy: 0.9867 - val_loss: 1.1236 - val_categorical_accuracy: 0.6400\n",
            "\n",
            "Epoch 00011: saving model to model_init_2020-06-2715_21_50.523285/model-00011-0.08687-0.98643-1.12358-0.64000.h5\n",
            "Epoch 12/15\n",
            "17/17 [==============================] - 58s 3s/step - loss: 0.0834 - categorical_accuracy: 0.9897 - val_loss: 0.8379 - val_categorical_accuracy: 0.7200\n",
            "\n",
            "Epoch 00012: saving model to model_init_2020-06-2715_21_50.523285/model-00012-0.08320-0.98944-0.83790-0.72000.h5\n",
            "Epoch 13/15\n",
            "17/17 [==============================] - 60s 4s/step - loss: 0.0630 - categorical_accuracy: 0.9941 - val_loss: 0.7390 - val_categorical_accuracy: 0.7300\n",
            "\n",
            "Epoch 00013: saving model to model_init_2020-06-2715_21_50.523285/model-00013-0.06339-0.99397-0.73903-0.73000.h5\n",
            "\n",
            "Epoch 00013: ReduceLROnPlateau reducing learning rate to 4.0000001899898055e-05.\n",
            "Epoch 14/15\n",
            "17/17 [==============================] - 58s 3s/step - loss: 0.0637 - categorical_accuracy: 0.9926 - val_loss: 0.6903 - val_categorical_accuracy: 0.7600\n",
            "\n",
            "Epoch 00014: saving model to model_init_2020-06-2715_21_50.523285/model-00014-0.06425-0.99246-0.69031-0.76000.h5\n",
            "Epoch 15/15\n",
            "17/17 [==============================] - 58s 3s/step - loss: 0.0621 - categorical_accuracy: 0.9956 - val_loss: 0.6205 - val_categorical_accuracy: 0.7700\n",
            "\n",
            "Epoch 00015: saving model to model_init_2020-06-2715_21_50.523285/model-00015-0.06232-0.99548-0.62052-0.77000.h5\n"
          ],
          "name": "stdout"
        }
      ]
    },
    {
      "cell_type": "code",
      "metadata": {
        "id": "rYD4mIZ9M7D5",
        "colab_type": "code",
        "colab": {},
        "outputId": "9f7acd2c-463f-47dc-f4dc-e86af4a23e1f"
      },
      "source": [
        "plot(history_model1)"
      ],
      "execution_count": null,
      "outputs": [
        {
          "output_type": "display_data",
          "data": {
            "image/png": "[encoded data removed]",
            "text/plain": [
              "<Figure size 1080x288 with 2 Axes>"
            ]
          },
          "metadata": {
            "tags": []
          }
        }
      ]
    },
    {
      "cell_type": "markdown",
      "metadata": {
        "id": "6SfQqWNzM7D9",
        "colab_type": "text"
      },
      "source": [
        "#### We can clearly figure out that the model is overfitting. Next, we do data augmentation."
      ]
    },
    {
      "cell_type": "markdown",
      "metadata": {
        "id": "O_CuvfcYM7D9",
        "colab_type": "text"
      },
      "source": [
        "## Model 2 - Augment Data , (3,3,3) filter & 160x160 image resolution"
      ]
    },
    {
      "cell_type": "code",
      "metadata": {
        "id": "aVAZjuIXM7D-",
        "colab_type": "code",
        "colab": {},
        "outputId": "9d12a4f2-832b-42a3-e698-f0637a245180"
      },
      "source": [
        "conv_3d2=ModelConv3D1()\n",
        "conv_3d2.initialize_path(project_folder)\n",
        "conv_3d2.initialize_image_properties(image_height=160,image_width=160)\n",
        "conv_3d2.initialize_hyperparams(frames_to_sample=20,batch_size=20,num_epochs=25)\n",
        "conv_3d2_model=conv_3d2.define_model(dense_neurons=256,dropout=0.5)\n",
        "conv_3d2_model.summary()"
      ],
      "execution_count": null,
      "outputs": [
        {
          "output_type": "stream",
          "text": [
            "_________________________________________________________________\n",
            "Layer (type)                 Output Shape              Param #   \n",
            "=================================================================\n",
            "conv3d_13 (Conv3D)           (None, 20, 160, 160, 16)  1312      \n",
            "_________________________________________________________________\n",
            "activation_13 (Activation)   (None, 20, 160, 160, 16)  0         \n",
            "_________________________________________________________________\n",
            "batch_normalization_19 (Batc (None, 20, 160, 160, 16)  64        \n",
            "_________________________________________________________________\n",
            "max_pooling3d_13 (MaxPooling (None, 10, 80, 80, 16)    0         \n",
            "_________________________________________________________________\n",
            "conv3d_14 (Conv3D)           (None, 10, 80, 80, 32)    13856     \n",
            "_________________________________________________________________\n",
            "activation_14 (Activation)   (None, 10, 80, 80, 32)    0         \n",
            "_________________________________________________________________\n",
            "batch_normalization_20 (Batc (None, 10, 80, 80, 32)    128       \n",
            "_________________________________________________________________\n",
            "max_pooling3d_14 (MaxPooling (None, 5, 40, 40, 32)     0         \n",
            "_________________________________________________________________\n",
            "conv3d_15 (Conv3D)           (None, 5, 40, 40, 64)     55360     \n",
            "_________________________________________________________________\n",
            "activation_15 (Activation)   (None, 5, 40, 40, 64)     0         \n",
            "_________________________________________________________________\n",
            "batch_normalization_21 (Batc (None, 5, 40, 40, 64)     256       \n",
            "_________________________________________________________________\n",
            "max_pooling3d_15 (MaxPooling (None, 2, 20, 20, 64)     0         \n",
            "_________________________________________________________________\n",
            "conv3d_16 (Conv3D)           (None, 2, 20, 20, 128)    221312    \n",
            "_________________________________________________________________\n",
            "activation_16 (Activation)   (None, 2, 20, 20, 128)    0         \n",
            "_________________________________________________________________\n",
            "batch_normalization_22 (Batc (None, 2, 20, 20, 128)    512       \n",
            "_________________________________________________________________\n",
            "max_pooling3d_16 (MaxPooling (None, 1, 10, 10, 128)    0         \n",
            "_________________________________________________________________\n",
            "flatten_4 (Flatten)          (None, 12800)             0         \n",
            "_________________________________________________________________\n",
            "dense_10 (Dense)             (None, 256)               3277056   \n",
            "_________________________________________________________________\n",
            "batch_normalization_23 (Batc (None, 256)               1024      \n",
            "_________________________________________________________________\n",
            "dropout_7 (Dropout)          (None, 256)               0         \n",
            "_________________________________________________________________\n",
            "dense_11 (Dense)             (None, 256)               65792     \n",
            "_________________________________________________________________\n",
            "batch_normalization_24 (Batc (None, 256)               1024      \n",
            "_________________________________________________________________\n",
            "dropout_8 (Dropout)          (None, 256)               0         \n",
            "_________________________________________________________________\n",
            "dense_12 (Dense)             (None, 5)                 1285      \n",
            "=================================================================\n",
            "Total params: 3,638,981\n",
            "Trainable params: 3,637,477\n",
            "Non-trainable params: 1,504\n",
            "_________________________________________________________________\n"
          ],
          "name": "stdout"
        }
      ]
    },
    {
      "cell_type": "code",
      "metadata": {
        "id": "zSUqOmXKM7EF",
        "colab_type": "code",
        "colab": {},
        "outputId": "e9fdc0ea-c175-4819-c1a2-7bdbeca66817"
      },
      "source": [
        "print(\"Total Params:\", conv_3d2_model.count_params())\n",
        "history_model2=conv_3d2.train_model(conv_3d2_model,augment_data=True)"
      ],
      "execution_count": null,
      "outputs": [
        {
          "output_type": "stream",
          "text": [
            "Total Params: 3638981\n",
            "Epoch 1/25\n",
            "34/34 [==============================] - 142s 4s/step - loss: 1.9806 - categorical_accuracy: 0.3653 - val_loss: 2.8184 - val_categorical_accuracy: 0.3600\n",
            "\n",
            "Epoch 00001: saving model to model_init_2020-06-2715_39_43.961799/model-00001-1.97892-0.36199-2.81840-0.36000.h5\n",
            "Epoch 2/25\n",
            "34/34 [==============================] - 129s 4s/step - loss: 1.4401 - categorical_accuracy: 0.4761 - val_loss: 12.3271 - val_categorical_accuracy: 0.2300\n",
            "\n",
            "Epoch 00002: saving model to model_init_2020-06-2715_39_43.961799/model-00002-1.43754-0.47964-12.32710-0.23000.h5\n",
            "Epoch 3/25\n",
            "34/34 [==============================] - 133s 4s/step - loss: 1.2108 - categorical_accuracy: 0.5699 - val_loss: 1.6587 - val_categorical_accuracy: 0.6800\n",
            "\n",
            "Epoch 00003: saving model to model_init_2020-06-2715_39_43.961799/model-00003-1.21467-0.57164-1.65867-0.68000.h5\n",
            "Epoch 4/25\n",
            "34/34 [==============================] - 134s 4s/step - loss: 1.0450 - categorical_accuracy: 0.6266 - val_loss: 1.5991 - val_categorical_accuracy: 0.5100\n",
            "\n",
            "Epoch 00004: saving model to model_init_2020-06-2715_39_43.961799/model-00004-1.05490-0.62971-1.59906-0.51000.h5\n",
            "Epoch 5/25\n",
            "34/34 [==============================] - 134s 4s/step - loss: 1.1046 - categorical_accuracy: 0.6229 - val_loss: 1.1600 - val_categorical_accuracy: 0.5700\n",
            "\n",
            "Epoch 00005: saving model to model_init_2020-06-2715_39_43.961799/model-00005-1.05521-0.63424-1.15999-0.57000.h5\n",
            "Epoch 6/25\n",
            "34/34 [==============================] - 134s 4s/step - loss: 0.9478 - categorical_accuracy: 0.6542 - val_loss: 1.9113 - val_categorical_accuracy: 0.4800\n",
            "\n",
            "Epoch 00006: saving model to model_init_2020-06-2715_39_43.961799/model-00006-0.91353-0.66214-1.91126-0.48000.h5\n",
            "Epoch 7/25\n",
            "34/34 [==============================] - 134s 4s/step - loss: 0.9527 - categorical_accuracy: 0.6376 - val_loss: 2.4838 - val_categorical_accuracy: 0.4400\n",
            "\n",
            "Epoch 00007: saving model to model_init_2020-06-2715_39_43.961799/model-00007-0.95975-0.64103-2.48378-0.44000.h5\n",
            "Epoch 8/25\n",
            "34/34 [==============================] - 134s 4s/step - loss: 1.0309 - categorical_accuracy: 0.6358 - val_loss: 2.1131 - val_categorical_accuracy: 0.5400\n",
            "\n",
            "Epoch 00008: saving model to model_init_2020-06-2715_39_43.961799/model-00008-1.03819-0.63499-2.11308-0.54000.h5\n",
            "Epoch 9/25\n",
            "34/34 [==============================] - 133s 4s/step - loss: 0.8147 - categorical_accuracy: 0.6957 - val_loss: 1.0340 - val_categorical_accuracy: 0.7100\n",
            "\n",
            "Epoch 00009: saving model to model_init_2020-06-2715_39_43.961799/model-00009-0.80900-0.70060-1.03395-0.71000.h5\n",
            "Epoch 10/25\n",
            "34/34 [==============================] - 135s 4s/step - loss: 0.7668 - categorical_accuracy: 0.7090 - val_loss: 1.1145 - val_categorical_accuracy: 0.6200\n",
            "\n",
            "Epoch 00010: saving model to model_init_2020-06-2715_39_43.961799/model-00010-0.73990-0.72247-1.11448-0.62000.h5\n",
            "Epoch 11/25\n",
            "34/34 [==============================] - 135s 4s/step - loss: 0.6987 - categorical_accuracy: 0.7174 - val_loss: 0.7634 - val_categorical_accuracy: 0.7000\n",
            "\n",
            "Epoch 00011: saving model to model_init_2020-06-2715_39_43.961799/model-00011-0.68433-0.72700-0.76339-0.70000.h5\n",
            "Epoch 12/25\n",
            "34/34 [==============================] - 135s 4s/step - loss: 0.5828 - categorical_accuracy: 0.7826 - val_loss: 1.1469 - val_categorical_accuracy: 0.5900\n",
            "\n",
            "Epoch 00012: saving model to model_init_2020-06-2715_39_43.961799/model-00012-0.56419-0.78959-1.14686-0.59000.h5\n",
            "Epoch 13/25\n",
            "34/34 [==============================] - 134s 4s/step - loss: 0.5925 - categorical_accuracy: 0.7701 - val_loss: 1.1796 - val_categorical_accuracy: 0.5900\n",
            "\n",
            "Epoch 00013: saving model to model_init_2020-06-2715_39_43.961799/model-00013-0.58152-0.76848-1.17960-0.59000.h5\n",
            "Epoch 14/25\n",
            "34/34 [==============================] - 134s 4s/step - loss: 0.4874 - categorical_accuracy: 0.8190 - val_loss: 0.9555 - val_categorical_accuracy: 0.6900\n",
            "\n",
            "Epoch 00014: saving model to model_init_2020-06-2715_39_43.961799/model-00014-0.47318-0.82278-0.95546-0.69000.h5\n",
            "Epoch 15/25\n",
            "34/34 [==============================] - 134s 4s/step - loss: 0.4720 - categorical_accuracy: 0.8234 - val_loss: 1.8738 - val_categorical_accuracy: 0.5000\n",
            "\n",
            "Epoch 00015: saving model to model_init_2020-06-2715_39_43.961799/model-00015-0.46580-0.82730-1.87382-0.50000.h5\n",
            "\n",
            "Epoch 00015: ReduceLROnPlateau reducing learning rate to 0.00020000000949949026.\n",
            "Epoch 16/25\n",
            "34/34 [==============================] - 134s 4s/step - loss: 0.4954 - categorical_accuracy: 0.8153 - val_loss: 1.5556 - val_categorical_accuracy: 0.5600\n",
            "\n",
            "Epoch 00016: saving model to model_init_2020-06-2715_39_43.961799/model-00016-0.47515-0.81900-1.55559-0.56000.h5\n",
            "Epoch 17/25\n",
            "34/34 [==============================] - 134s 4s/step - loss: 0.3738 - categorical_accuracy: 0.8657 - val_loss: 0.7545 - val_categorical_accuracy: 0.7300\n",
            "\n",
            "Epoch 00017: saving model to model_init_2020-06-2715_39_43.961799/model-00017-0.37421-0.86652-0.75454-0.73000.h5\n",
            "Epoch 18/25\n",
            "34/34 [==============================] - 133s 4s/step - loss: 0.3932 - categorical_accuracy: 0.8613 - val_loss: 1.0680 - val_categorical_accuracy: 0.6500\n",
            "\n",
            "Epoch 00018: saving model to model_init_2020-06-2715_39_43.961799/model-00018-0.35102-0.87029-1.06800-0.65000.h5\n",
            "Epoch 19/25\n",
            "34/34 [==============================] - 133s 4s/step - loss: 0.3289 - categorical_accuracy: 0.8779 - val_loss: 0.7969 - val_categorical_accuracy: 0.6800\n",
            "\n",
            "Epoch 00019: saving model to model_init_2020-06-2715_39_43.961799/model-00019-0.31127-0.88311-0.79693-0.68000.h5\n",
            "Epoch 20/25\n",
            "34/34 [==============================] - 134s 4s/step - loss: 0.3018 - categorical_accuracy: 0.8900 - val_loss: 0.5963 - val_categorical_accuracy: 0.7700\n",
            "\n",
            "Epoch 00020: saving model to model_init_2020-06-2715_39_43.961799/model-00020-0.27164-0.89970-0.59635-0.77000.h5\n",
            "Epoch 21/25\n",
            "34/34 [==============================] - 134s 4s/step - loss: 0.3279 - categorical_accuracy: 0.8830 - val_loss: 0.6109 - val_categorical_accuracy: 0.7500\n",
            "\n",
            "Epoch 00021: saving model to model_init_2020-06-2715_39_43.961799/model-00021-0.29037-0.88839-0.61086-0.75000.h5\n",
            "Epoch 22/25\n",
            "34/34 [==============================] - 133s 4s/step - loss: 0.2617 - categorical_accuracy: 0.9054 - val_loss: 0.5885 - val_categorical_accuracy: 0.7800\n",
            "\n",
            "Epoch 00022: saving model to model_init_2020-06-2715_39_43.961799/model-00022-0.24643-0.90724-0.58845-0.78000.h5\n",
            "Epoch 23/25\n",
            "34/34 [==============================] - 133s 4s/step - loss: 0.4045 - categorical_accuracy: 0.8808 - val_loss: 0.8485 - val_categorical_accuracy: 0.6900\n",
            "\n",
            "Epoch 00023: saving model to model_init_2020-06-2715_39_43.961799/model-00023-0.30827-0.89442-0.84852-0.69000.h5\n",
            "Epoch 24/25\n",
            "34/34 [==============================] - 133s 4s/step - loss: 0.2593 - categorical_accuracy: 0.9080 - val_loss: 0.6601 - val_categorical_accuracy: 0.7200\n",
            "\n",
            "Epoch 00024: saving model to model_init_2020-06-2715_39_43.961799/model-00024-0.23612-0.91403-0.66009-0.72000.h5\n",
            "Epoch 25/25\n",
            "34/34 [==============================] - 132s 4s/step - loss: 0.2469 - categorical_accuracy: 0.9168 - val_loss: 0.6935 - val_categorical_accuracy: 0.7400\n",
            "\n",
            "Epoch 00025: saving model to model_init_2020-06-2715_39_43.961799/model-00025-0.23366-0.92308-0.69346-0.74000.h5\n"
          ],
          "name": "stdout"
        }
      ]
    },
    {
      "cell_type": "code",
      "metadata": {
        "id": "sbV9LwBPM7EJ",
        "colab_type": "code",
        "colab": {},
        "outputId": "1cc23e76-87d6-4766-ec01-4e63ba19b4e5"
      },
      "source": [
        "plot(history_model2)"
      ],
      "execution_count": null,
      "outputs": [
        {
          "output_type": "display_data",
          "data": {
            "image/png": "[encoded data removed]",
            "text/plain": [
              "<Figure size 1080x288 with 2 Axes>"
            ]
          },
          "metadata": {
            "tags": []
          }
        }
      ]
    },
    {
      "cell_type": "markdown",
      "metadata": {
        "id": "lSGwtJ5bM7EN",
        "colab_type": "text"
      },
      "source": [
        "#### This model is overfitting less as compared to base model.\n"
      ]
    },
    {
      "cell_type": "markdown",
      "metadata": {
        "id": "6Ovn8gwCM7EN",
        "colab_type": "text"
      },
      "source": [
        "## Model 3 - Reduce filter size to (2,2,2) and image res to 120 x 120"
      ]
    },
    {
      "cell_type": "code",
      "metadata": {
        "id": "AkWtLBoEM7EO",
        "colab_type": "code",
        "colab": {}
      },
      "source": [
        "class ModelConv3D3(ModelBuilder):\n",
        "    \n",
        "    def define_model(self,filtersize=(3,3,3),dense_neurons=64,dropout=0.25):\n",
        "\n",
        "        model = Sequential()\n",
        "        model.add(Conv3D(16, filtersize, padding='same',\n",
        "                 input_shape=(self.frames_to_sample,self.image_height,self.image_width,self.channels)))\n",
        "        model.add(Activation('relu'))\n",
        "        model.add(BatchNormalization())\n",
        "        model.add(MaxPooling3D(pool_size=(2, 2, 2)))\n",
        "\n",
        "        model.add(Conv3D(32, filtersize, padding='same'))\n",
        "        model.add(Activation('relu'))\n",
        "        model.add(BatchNormalization())\n",
        "        model.add(MaxPooling3D(pool_size=(2, 2, 2)))\n",
        "\n",
        "        model.add(Conv3D(64, filtersize, padding='same'))\n",
        "        model.add(Activation('relu'))\n",
        "        model.add(BatchNormalization())\n",
        "        model.add(MaxPooling3D(pool_size=(2, 2, 2)))\n",
        "\n",
        "        model.add(Conv3D(128, filtersize, padding='same'))\n",
        "        model.add(Activation('relu'))\n",
        "        model.add(BatchNormalization())\n",
        "        model.add(MaxPooling3D(pool_size=(2, 2, 2)))\n",
        "\n",
        "        model.add(Flatten())\n",
        "        model.add(Dense(dense_neurons,activation='relu'))\n",
        "        model.add(BatchNormalization())\n",
        "        model.add(Dropout(dropout))\n",
        "\n",
        "        model.add(Dense(dense_neurons,activation='relu'))\n",
        "        model.add(BatchNormalization())\n",
        "        model.add(Dropout(dropout))\n",
        "\n",
        "\n",
        "        model.add(Dense(self.num_classes,activation='softmax'))\n",
        "\n",
        "        optimiser = optimizers.Adam(lr=0.0002)\n",
        "        model.compile(optimizer=optimiser, loss='categorical_crossentropy', metrics=['categorical_accuracy'])\n",
        "        return model"
      ],
      "execution_count": null,
      "outputs": []
    },
    {
      "cell_type": "code",
      "metadata": {
        "id": "6H17KuhTM7ES",
        "colab_type": "code",
        "colab": {},
        "outputId": "ef3effa2-a434-4db7-8c90-b24460d38af8"
      },
      "source": [
        "conv_3d3=ModelConv3D3()\n",
        "conv_3d3.initialize_path(project_folder)\n",
        "conv_3d3.initialize_image_properties(image_height=120,image_width=120)\n",
        "conv_3d3.initialize_hyperparams(frames_to_sample=16,batch_size=30,num_epochs=30)\n",
        "conv_3d3_model=conv_3d3.define_model(filtersize=(2,2,2),dense_neurons=256,dropout=0.5)\n",
        "conv_3d3_model.summary()"
      ],
      "execution_count": null,
      "outputs": [
        {
          "output_type": "stream",
          "text": [
            "_________________________________________________________________\n",
            "Layer (type)                 Output Shape              Param #   \n",
            "=================================================================\n",
            "conv3d_29 (Conv3D)           (None, 16, 120, 120, 16)  400       \n",
            "_________________________________________________________________\n",
            "activation_29 (Activation)   (None, 16, 120, 120, 16)  0         \n",
            "_________________________________________________________________\n",
            "batch_normalization_43 (Batc (None, 16, 120, 120, 16)  64        \n",
            "_________________________________________________________________\n",
            "max_pooling3d_29 (MaxPooling (None, 8, 60, 60, 16)     0         \n",
            "_________________________________________________________________\n",
            "conv3d_30 (Conv3D)           (None, 8, 60, 60, 32)     4128      \n",
            "_________________________________________________________________\n",
            "activation_30 (Activation)   (None, 8, 60, 60, 32)     0         \n",
            "_________________________________________________________________\n",
            "batch_normalization_44 (Batc (None, 8, 60, 60, 32)     128       \n",
            "_________________________________________________________________\n",
            "max_pooling3d_30 (MaxPooling (None, 4, 30, 30, 32)     0         \n",
            "_________________________________________________________________\n",
            "conv3d_31 (Conv3D)           (None, 4, 30, 30, 64)     16448     \n",
            "_________________________________________________________________\n",
            "activation_31 (Activation)   (None, 4, 30, 30, 64)     0         \n",
            "_________________________________________________________________\n",
            "batch_normalization_45 (Batc (None, 4, 30, 30, 64)     256       \n",
            "_________________________________________________________________\n",
            "max_pooling3d_31 (MaxPooling (None, 2, 15, 15, 64)     0         \n",
            "_________________________________________________________________\n",
            "conv3d_32 (Conv3D)           (None, 2, 15, 15, 128)    65664     \n",
            "_________________________________________________________________\n",
            "activation_32 (Activation)   (None, 2, 15, 15, 128)    0         \n",
            "_________________________________________________________________\n",
            "batch_normalization_46 (Batc (None, 2, 15, 15, 128)    512       \n",
            "_________________________________________________________________\n",
            "max_pooling3d_32 (MaxPooling (None, 1, 7, 7, 128)      0         \n",
            "_________________________________________________________________\n",
            "flatten_8 (Flatten)          (None, 6272)              0         \n",
            "_________________________________________________________________\n",
            "dense_22 (Dense)             (None, 256)               1605888   \n",
            "_________________________________________________________________\n",
            "batch_normalization_47 (Batc (None, 256)               1024      \n",
            "_________________________________________________________________\n",
            "dropout_15 (Dropout)         (None, 256)               0         \n",
            "_________________________________________________________________\n",
            "dense_23 (Dense)             (None, 256)               65792     \n",
            "_________________________________________________________________\n",
            "batch_normalization_48 (Batc (None, 256)               1024      \n",
            "_________________________________________________________________\n",
            "dropout_16 (Dropout)         (None, 256)               0         \n",
            "_________________________________________________________________\n",
            "dense_24 (Dense)             (None, 5)                 1285      \n",
            "=================================================================\n",
            "Total params: 1,762,613\n",
            "Trainable params: 1,761,109\n",
            "Non-trainable params: 1,504\n",
            "_________________________________________________________________\n"
          ],
          "name": "stdout"
        }
      ]
    },
    {
      "cell_type": "code",
      "metadata": {
        "id": "2akx4edBM7EW",
        "colab_type": "code",
        "colab": {},
        "outputId": "1fd23824-dd9a-4f68-f196-fa8f5a412731"
      },
      "source": [
        "print(\"Total Params:\", conv_3d3_model.count_params())\n",
        "history_model3=conv_3d3.train_model(conv_3d3_model,augment_data=True)"
      ],
      "execution_count": null,
      "outputs": [
        {
          "output_type": "stream",
          "text": [
            "Total Params: 1762613\n",
            "Epoch 1/30\n",
            "23/23 [==============================] - 96s 4s/step - loss: 2.2882 - categorical_accuracy: 0.2831 - val_loss: 1.1193 - val_categorical_accuracy: 0.5200\n",
            "\n",
            "Epoch 00001: saving model to model_init_2020-06-2812_40_06.481149/model-00001-2.24414-0.29412-1.11933-0.52000.h5\n",
            "Epoch 2/30\n",
            "23/23 [==============================] - 81s 4s/step - loss: 1.5374 - categorical_accuracy: 0.4623 - val_loss: 1.0049 - val_categorical_accuracy: 0.5900\n",
            "\n",
            "Epoch 00002: saving model to model_init_2020-06-2812_40_06.481149/model-00002-1.55886-0.46078-1.00488-0.59000.h5\n",
            "Epoch 3/30\n",
            "23/23 [==============================] - 89s 4s/step - loss: 1.4428 - categorical_accuracy: 0.5010 - val_loss: 0.9963 - val_categorical_accuracy: 0.6200\n",
            "\n",
            "Epoch 00003: saving model to model_init_2020-06-2812_40_06.481149/model-00003-1.40303-0.50754-0.99631-0.62000.h5\n",
            "Epoch 4/30\n",
            "23/23 [==============================] - 90s 4s/step - loss: 1.1727 - categorical_accuracy: 0.5793 - val_loss: 1.0295 - val_categorical_accuracy: 0.6300\n",
            "\n",
            "Epoch 00004: saving model to model_init_2020-06-2812_40_06.481149/model-00004-1.20482-0.56938-1.02954-0.63000.h5\n",
            "Epoch 5/30\n",
            "23/23 [==============================] - 89s 4s/step - loss: 1.1412 - categorical_accuracy: 0.5903 - val_loss: 0.8373 - val_categorical_accuracy: 0.6700\n",
            "\n",
            "Epoch 00005: saving model to model_init_2020-06-2812_40_06.481149/model-00005-1.11929-0.60030-0.83728-0.67000.h5\n",
            "Epoch 6/30\n",
            "23/23 [==============================] - 89s 4s/step - loss: 1.1615 - categorical_accuracy: 0.5964 - val_loss: 0.7719 - val_categorical_accuracy: 0.7100\n",
            "\n",
            "Epoch 00006: saving model to model_init_2020-06-2812_40_06.481149/model-00006-1.07732-0.61312-0.77186-0.71000.h5\n",
            "Epoch 7/30\n",
            "23/23 [==============================] - 90s 4s/step - loss: 0.9813 - categorical_accuracy: 0.6384 - val_loss: 0.8289 - val_categorical_accuracy: 0.6800\n",
            "\n",
            "Epoch 00007: saving model to model_init_2020-06-2812_40_06.481149/model-00007-0.99749-0.63725-0.82891-0.68000.h5\n",
            "Epoch 8/30\n",
            "23/23 [==============================] - 90s 4s/step - loss: 0.9427 - categorical_accuracy: 0.6590 - val_loss: 0.8045 - val_categorical_accuracy: 0.7300\n",
            "\n",
            "Epoch 00008: saving model to model_init_2020-06-2812_40_06.481149/model-00008-0.90428-0.66516-0.80455-0.73000.h5\n",
            "Epoch 9/30\n",
            "23/23 [==============================] - 89s 4s/step - loss: 0.8508 - categorical_accuracy: 0.6665 - val_loss: 0.8339 - val_categorical_accuracy: 0.7300\n",
            "\n",
            "Epoch 00009: saving model to model_init_2020-06-2812_40_06.481149/model-00009-0.85563-0.67949-0.83387-0.73000.h5\n",
            "Epoch 10/30\n",
            "23/23 [==============================] - 90s 4s/step - loss: 0.8366 - categorical_accuracy: 0.6979 - val_loss: 0.8013 - val_categorical_accuracy: 0.7500\n",
            "\n",
            "Epoch 00010: saving model to model_init_2020-06-2812_40_06.481149/model-00010-0.83398-0.69910-0.80130-0.75000.h5\n",
            "\n",
            "Epoch 00010: ReduceLROnPlateau reducing learning rate to 3.9999998989515007e-05.\n",
            "Epoch 11/30\n",
            "23/23 [==============================] - 89s 4s/step - loss: 0.8522 - categorical_accuracy: 0.7002 - val_loss: 0.7796 - val_categorical_accuracy: 0.7500\n",
            "\n",
            "Epoch 00011: saving model to model_init_2020-06-2812_40_06.481149/model-00011-0.75584-0.72097-0.77964-0.75000.h5\n",
            "Epoch 12/30\n",
            "23/23 [==============================] - 90s 4s/step - loss: 0.7097 - categorical_accuracy: 0.7470 - val_loss: 0.7634 - val_categorical_accuracy: 0.7400\n",
            "\n",
            "Epoch 00012: saving model to model_init_2020-06-2812_40_06.481149/model-00012-0.71820-0.74359-0.76343-0.74000.h5\n",
            "Epoch 13/30\n",
            "23/23 [==============================] - 89s 4s/step - loss: 0.7695 - categorical_accuracy: 0.7255 - val_loss: 0.7536 - val_categorical_accuracy: 0.7400\n",
            "\n",
            "Epoch 00013: saving model to model_init_2020-06-2812_40_06.481149/model-00013-0.76730-0.72775-0.75364-0.74000.h5\n",
            "Epoch 14/30\n",
            "23/23 [==============================] - 90s 4s/step - loss: 0.7747 - categorical_accuracy: 0.7038 - val_loss: 0.7631 - val_categorical_accuracy: 0.7300\n",
            "\n",
            "Epoch 00014: saving model to model_init_2020-06-2812_40_06.481149/model-00014-0.71353-0.72474-0.76309-0.73000.h5\n",
            "Epoch 15/30\n",
            "23/23 [==============================] - 90s 4s/step - loss: 0.7404 - categorical_accuracy: 0.7408 - val_loss: 0.7761 - val_categorical_accuracy: 0.7300\n",
            "\n",
            "Epoch 00015: saving model to model_init_2020-06-2812_40_06.481149/model-00015-0.64553-0.76320-0.77609-0.73000.h5\n",
            "Epoch 16/30\n",
            "23/23 [==============================] - 89s 4s/step - loss: 0.6517 - categorical_accuracy: 0.7680 - val_loss: 0.8062 - val_categorical_accuracy: 0.7300\n",
            "\n",
            "Epoch 00016: saving model to model_init_2020-06-2812_40_06.481149/model-00016-0.65317-0.76546-0.80622-0.73000.h5\n",
            "Epoch 17/30\n",
            "23/23 [==============================] - 90s 4s/step - loss: 0.6399 - categorical_accuracy: 0.7593 - val_loss: 0.7944 - val_categorical_accuracy: 0.7400\n",
            "\n",
            "Epoch 00017: saving model to model_init_2020-06-2812_40_06.481149/model-00017-0.63749-0.75641-0.79437-0.74000.h5\n",
            "\n",
            "Epoch 00017: ReduceLROnPlateau reducing learning rate to 7.999999797903002e-06.\n",
            "Epoch 18/30\n",
            "23/23 [==============================] - 89s 4s/step - loss: 0.6971 - categorical_accuracy: 0.7480 - val_loss: 0.7849 - val_categorical_accuracy: 0.7400\n",
            "\n",
            "Epoch 00018: saving model to model_init_2020-06-2812_40_06.481149/model-00018-0.68625-0.75113-0.78494-0.74000.h5\n",
            "Epoch 19/30\n",
            "23/23 [==============================] - 89s 4s/step - loss: 0.7028 - categorical_accuracy: 0.7487 - val_loss: 0.7853 - val_categorical_accuracy: 0.7400\n",
            "\n",
            "Epoch 00019: saving model to model_init_2020-06-2812_40_06.481149/model-00019-0.67376-0.75189-0.78535-0.74000.h5\n",
            "Epoch 20/30\n",
            "23/23 [==============================] - 89s 4s/step - loss: 0.5894 - categorical_accuracy: 0.7767 - val_loss: 0.7846 - val_categorical_accuracy: 0.7400\n",
            "\n",
            "Epoch 00020: saving model to model_init_2020-06-2812_40_06.481149/model-00020-0.60341-0.77451-0.78461-0.74000.h5\n",
            "Epoch 21/30\n",
            "23/23 [==============================] - 89s 4s/step - loss: 0.6590 - categorical_accuracy: 0.7625 - val_loss: 0.7806 - val_categorical_accuracy: 0.7300\n",
            "\n",
            "Epoch 00021: saving model to model_init_2020-06-2812_40_06.481149/model-00021-0.61229-0.76621-0.78056-0.73000.h5\n",
            "\n",
            "Epoch 00021: ReduceLROnPlateau reducing learning rate to 1.5999999959603884e-06.\n",
            "Epoch 22/30\n",
            "23/23 [==============================] - 91s 4s/step - loss: 0.6935 - categorical_accuracy: 0.7660 - val_loss: 0.7824 - val_categorical_accuracy: 0.7400\n",
            "\n",
            "Epoch 00022: saving model to model_init_2020-06-2812_40_06.481149/model-00022-0.59561-0.78281-0.78244-0.74000.h5\n",
            "Epoch 23/30\n",
            "23/23 [==============================] - 91s 4s/step - loss: 0.6847 - categorical_accuracy: 0.7442 - val_loss: 0.7802 - val_categorical_accuracy: 0.7400\n",
            "\n",
            "Epoch 00023: saving model to model_init_2020-06-2812_40_06.481149/model-00023-0.61398-0.76018-0.78017-0.74000.h5\n",
            "Epoch 24/30\n",
            "23/23 [==============================] - 91s 4s/step - loss: 0.7043 - categorical_accuracy: 0.7542 - val_loss: 0.7793 - val_categorical_accuracy: 0.7400\n",
            "\n",
            "Epoch 00024: saving model to model_init_2020-06-2812_40_06.481149/model-00024-0.67245-0.75113-0.77929-0.74000.h5\n",
            "Epoch 25/30\n",
            "23/23 [==============================] - 91s 4s/step - loss: 0.5672 - categorical_accuracy: 0.7806 - val_loss: 0.7779 - val_categorical_accuracy: 0.7400\n",
            "\n",
            "Epoch 00025: saving model to model_init_2020-06-2812_40_06.481149/model-00025-0.57038-0.78507-0.77794-0.74000.h5\n",
            "\n",
            "Epoch 00025: ReduceLROnPlateau reducing learning rate to 3.200000037395512e-07.\n",
            "Epoch 26/30\n",
            "23/23 [==============================] - 90s 4s/step - loss: 0.6348 - categorical_accuracy: 0.7589 - val_loss: 0.7753 - val_categorical_accuracy: 0.7400\n",
            "\n",
            "Epoch 00026: saving model to model_init_2020-06-2812_40_06.481149/model-00026-0.63684-0.76244-0.77530-0.74000.h5\n",
            "Epoch 27/30\n",
            "23/23 [==============================] - 91s 4s/step - loss: 0.6228 - categorical_accuracy: 0.7673 - val_loss: 0.7746 - val_categorical_accuracy: 0.7400\n",
            "\n",
            "Epoch 00027: saving model to model_init_2020-06-2812_40_06.481149/model-00027-0.62209-0.76471-0.77459-0.74000.h5\n",
            "Epoch 28/30\n",
            "23/23 [==============================] - 91s 4s/step - loss: 0.6840 - categorical_accuracy: 0.7538 - val_loss: 0.7779 - val_categorical_accuracy: 0.7400\n",
            "\n",
            "Epoch 00028: saving model to model_init_2020-06-2812_40_06.481149/model-00028-0.67198-0.75716-0.77789-0.74000.h5\n",
            "Epoch 29/30\n",
            "23/23 [==============================] - 90s 4s/step - loss: 0.7406 - categorical_accuracy: 0.7372 - val_loss: 0.7769 - val_categorical_accuracy: 0.7400\n",
            "\n",
            "Epoch 00029: saving model to model_init_2020-06-2812_40_06.481149/model-00029-0.60363-0.75943-0.77689-0.74000.h5\n",
            "\n",
            "Epoch 00029: ReduceLROnPlateau reducing learning rate to 6.399999961104187e-08.\n",
            "Epoch 30/30\n",
            "23/23 [==============================] - 91s 4s/step - loss: 0.6756 - categorical_accuracy: 0.7660 - val_loss: 0.7743 - val_categorical_accuracy: 0.7400\n",
            "\n",
            "Epoch 00030: saving model to model_init_2020-06-2812_40_06.481149/model-00030-0.65291-0.78281-0.77432-0.74000.h5\n"
          ],
          "name": "stdout"
        }
      ]
    },
    {
      "cell_type": "code",
      "metadata": {
        "id": "kmsAiyNwM7Ec",
        "colab_type": "code",
        "colab": {},
        "outputId": "4289e42b-b7e6-484b-aafb-f315a0f448be"
      },
      "source": [
        "plot(history_model3)"
      ],
      "execution_count": null,
      "outputs": [
        {
          "output_type": "display_data",
          "data": {
            "image/png": "[encoded data removed]",
            "text/plain": [
              "<Figure size 1080x288 with 2 Axes>"
            ]
          },
          "metadata": {
            "tags": []
          }
        }
      ]
    },
    {
      "cell_type": "markdown",
      "metadata": {
        "id": "pny_pYWtM7Eg",
        "colab_type": "text"
      },
      "source": [
        "#### This model has approximately half the parameters w.r.t Model 2 with similar accuracy !"
      ]
    },
    {
      "cell_type": "markdown",
      "metadata": {
        "id": "xjTkkmMJM7Eg",
        "colab_type": "text"
      },
      "source": [
        "## Model 4 - Adding more layers"
      ]
    },
    {
      "cell_type": "code",
      "metadata": {
        "id": "DcNCCH4EM7Eh",
        "colab_type": "code",
        "colab": {}
      },
      "source": [
        "class ModelConv3D4(ModelBuilder):\n",
        "    \n",
        "    def define_model(self,filtersize=(3,3,3),dense_neurons=64,dropout=0.25):\n",
        "\n",
        "        model = Sequential()\n",
        "        model.add(Conv3D(16, filtersize, padding='same',\n",
        "                 input_shape=(self.frames_to_sample,self.image_height,self.image_width,self.channels)))\n",
        "        model.add(Activation('relu'))\n",
        "        model.add(BatchNormalization())\n",
        "        \n",
        "        model.add(Conv3D(16, filtersize, padding='same',\n",
        "                 input_shape=(self.frames_to_sample,self.image_height,self.image_width,self.channels)))\n",
        "        model.add(Activation('relu'))\n",
        "        model.add(BatchNormalization())\n",
        "        \n",
        "        model.add(MaxPooling3D(pool_size=(2, 2, 2)))\n",
        "\n",
        "        model.add(Conv3D(32, filtersize, padding='same'))\n",
        "        model.add(Activation('relu'))\n",
        "        model.add(BatchNormalization())\n",
        "        \n",
        "        model.add(Conv3D(32, filtersize, padding='same'))\n",
        "        model.add(Activation('relu'))\n",
        "        model.add(BatchNormalization())\n",
        "        \n",
        "        model.add(MaxPooling3D(pool_size=(2, 2, 2)))\n",
        "\n",
        "        model.add(Conv3D(64, filtersize, padding='same'))\n",
        "        model.add(Activation('relu'))\n",
        "        model.add(BatchNormalization())\n",
        "        \n",
        "        model.add(Conv3D(64, filtersize, padding='same'))\n",
        "        model.add(Activation('relu'))\n",
        "        model.add(BatchNormalization())\n",
        "        \n",
        "        model.add(MaxPooling3D(pool_size=(2, 2, 2)))\n",
        "\n",
        "        model.add(Conv3D(128, filtersize, padding='same'))\n",
        "        model.add(Activation('relu'))\n",
        "        model.add(BatchNormalization())\n",
        "        \n",
        "        model.add(Conv3D(128, filtersize, padding='same'))\n",
        "        model.add(Activation('relu'))\n",
        "        model.add(BatchNormalization())\n",
        "        \n",
        "        model.add(MaxPooling3D(pool_size=(2, 2, 2)))\n",
        "        \n",
        "\n",
        "        model.add(Flatten())\n",
        "        model.add(Dense(dense_neurons,activation='relu'))\n",
        "        model.add(BatchNormalization())\n",
        "        model.add(Dropout(dropout))\n",
        "\n",
        "        model.add(Dense(dense_neurons,activation='relu'))\n",
        "        model.add(BatchNormalization())\n",
        "        model.add(Dropout(dropout))\n",
        "\n",
        "\n",
        "        model.add(Dense(self.num_classes,activation='softmax'))\n",
        "\n",
        "        optimiser = optimizers.Adam()\n",
        "        model.compile(optimizer=optimiser, loss='categorical_crossentropy', metrics=['categorical_accuracy'])\n",
        "        return model"
      ],
      "execution_count": null,
      "outputs": []
    },
    {
      "cell_type": "code",
      "metadata": {
        "id": "CkTr7-iqM7El",
        "colab_type": "code",
        "colab": {},
        "outputId": "09eeee70-1740-4908-ceab-91a73cbfb524"
      },
      "source": [
        "conv_3d4=ModelConv3D4()\n",
        "conv_3d4.initialize_path(project_folder)\n",
        "conv_3d4.initialize_image_properties(image_height=120,image_width=120)\n",
        "conv_3d4.initialize_hyperparams(frames_to_sample=16,batch_size=20,num_epochs=30)\n",
        "conv_3d4_model=conv_3d4.define_model(filtersize=(3,3,3),dense_neurons=256,dropout=0.5)\n",
        "conv_3d4_model.summary()"
      ],
      "execution_count": null,
      "outputs": [
        {
          "output_type": "stream",
          "text": [
            "_________________________________________________________________\n",
            "Layer (type)                 Output Shape              Param #   \n",
            "=================================================================\n",
            "conv3d_33 (Conv3D)           (None, 16, 120, 120, 16)  1312      \n",
            "_________________________________________________________________\n",
            "activation_33 (Activation)   (None, 16, 120, 120, 16)  0         \n",
            "_________________________________________________________________\n",
            "batch_normalization_49 (Batc (None, 16, 120, 120, 16)  64        \n",
            "_________________________________________________________________\n",
            "conv3d_34 (Conv3D)           (None, 16, 120, 120, 16)  6928      \n",
            "_________________________________________________________________\n",
            "activation_34 (Activation)   (None, 16, 120, 120, 16)  0         \n",
            "_________________________________________________________________\n",
            "batch_normalization_50 (Batc (None, 16, 120, 120, 16)  64        \n",
            "_________________________________________________________________\n",
            "max_pooling3d_33 (MaxPooling (None, 8, 60, 60, 16)     0         \n",
            "_________________________________________________________________\n",
            "conv3d_35 (Conv3D)           (None, 8, 60, 60, 32)     13856     \n",
            "_________________________________________________________________\n",
            "activation_35 (Activation)   (None, 8, 60, 60, 32)     0         \n",
            "_________________________________________________________________\n",
            "batch_normalization_51 (Batc (None, 8, 60, 60, 32)     128       \n",
            "_________________________________________________________________\n",
            "conv3d_36 (Conv3D)           (None, 8, 60, 60, 32)     27680     \n",
            "_________________________________________________________________\n",
            "activation_36 (Activation)   (None, 8, 60, 60, 32)     0         \n",
            "_________________________________________________________________\n",
            "batch_normalization_52 (Batc (None, 8, 60, 60, 32)     128       \n",
            "_________________________________________________________________\n",
            "max_pooling3d_34 (MaxPooling (None, 4, 30, 30, 32)     0         \n",
            "_________________________________________________________________\n",
            "conv3d_37 (Conv3D)           (None, 4, 30, 30, 64)     55360     \n",
            "_________________________________________________________________\n",
            "activation_37 (Activation)   (None, 4, 30, 30, 64)     0         \n",
            "_________________________________________________________________\n",
            "batch_normalization_53 (Batc (None, 4, 30, 30, 64)     256       \n",
            "_________________________________________________________________\n",
            "conv3d_38 (Conv3D)           (None, 4, 30, 30, 64)     110656    \n",
            "_________________________________________________________________\n",
            "activation_38 (Activation)   (None, 4, 30, 30, 64)     0         \n",
            "_________________________________________________________________\n",
            "batch_normalization_54 (Batc (None, 4, 30, 30, 64)     256       \n",
            "_________________________________________________________________\n",
            "max_pooling3d_35 (MaxPooling (None, 2, 15, 15, 64)     0         \n",
            "_________________________________________________________________\n",
            "conv3d_39 (Conv3D)           (None, 2, 15, 15, 128)    221312    \n",
            "_________________________________________________________________\n",
            "activation_39 (Activation)   (None, 2, 15, 15, 128)    0         \n",
            "_________________________________________________________________\n",
            "batch_normalization_55 (Batc (None, 2, 15, 15, 128)    512       \n",
            "_________________________________________________________________\n",
            "conv3d_40 (Conv3D)           (None, 2, 15, 15, 128)    442496    \n",
            "_________________________________________________________________\n",
            "activation_40 (Activation)   (None, 2, 15, 15, 128)    0         \n",
            "_________________________________________________________________\n",
            "batch_normalization_56 (Batc (None, 2, 15, 15, 128)    512       \n",
            "_________________________________________________________________\n",
            "max_pooling3d_36 (MaxPooling (None, 1, 7, 7, 128)      0         \n",
            "_________________________________________________________________\n",
            "flatten_9 (Flatten)          (None, 6272)              0         \n",
            "_________________________________________________________________\n",
            "dense_25 (Dense)             (None, 256)               1605888   \n",
            "_________________________________________________________________\n",
            "batch_normalization_57 (Batc (None, 256)               1024      \n",
            "_________________________________________________________________\n",
            "dropout_17 (Dropout)         (None, 256)               0         \n",
            "_________________________________________________________________\n",
            "dense_26 (Dense)             (None, 256)               65792     \n",
            "_________________________________________________________________\n",
            "batch_normalization_58 (Batc (None, 256)               1024      \n",
            "_________________________________________________________________\n",
            "dropout_18 (Dropout)         (None, 256)               0         \n",
            "_________________________________________________________________\n",
            "dense_27 (Dense)             (None, 5)                 1285      \n",
            "=================================================================\n",
            "Total params: 2,556,533\n",
            "Trainable params: 2,554,549\n",
            "Non-trainable params: 1,984\n",
            "_________________________________________________________________\n"
          ],
          "name": "stdout"
        }
      ]
    },
    {
      "cell_type": "code",
      "metadata": {
        "id": "BUfhnrfDM7Ep",
        "colab_type": "code",
        "colab": {},
        "outputId": "6bb89975-a9b6-4280-ed6f-3d5b811af368"
      },
      "source": [
        "print(\"Total Params:\", conv_3d4_model.count_params())\n",
        "history_model4=conv_3d4.train_model(conv_3d4_model,augment_data=True)"
      ],
      "execution_count": null,
      "outputs": [
        {
          "output_type": "stream",
          "text": [
            "Total Params: 2556533\n",
            "Epoch 1/30\n",
            "34/34 [==============================] - 118s 3s/step - loss: 2.0308 - categorical_accuracy: 0.3532 - val_loss: 10.7200 - val_categorical_accuracy: 0.2200\n",
            "\n",
            "Epoch 00001: saving model to model_init_2020-06-2813_39_32.593448/model-00001-2.04162-0.34540-10.72004-0.22000.h5\n",
            "Epoch 2/30\n",
            "34/34 [==============================] - 95s 3s/step - loss: 1.5959 - categorical_accuracy: 0.4551 - val_loss: 2.1218 - val_categorical_accuracy: 0.4000\n",
            "\n",
            "Epoch 00002: saving model to model_init_2020-06-2813_39_32.593448/model-00002-1.57888-0.45400-2.12181-0.40000.h5\n",
            "Epoch 3/30\n",
            "34/34 [==============================] - 95s 3s/step - loss: 1.4718 - categorical_accuracy: 0.4606 - val_loss: 1.3633 - val_categorical_accuracy: 0.5000\n",
            "\n",
            "Epoch 00003: saving model to model_init_2020-06-2813_39_32.593448/model-00003-1.49616-0.45551-1.36328-0.50000.h5\n",
            "Epoch 4/30\n",
            "34/34 [==============================] - 95s 3s/step - loss: 1.2982 - categorical_accuracy: 0.5401 - val_loss: 0.9409 - val_categorical_accuracy: 0.5800\n",
            "\n",
            "Epoch 00004: saving model to model_init_2020-06-2813_39_32.593448/model-00004-1.24565-0.54525-0.94085-0.58000.h5\n",
            "Epoch 5/30\n",
            "34/34 [==============================] - 101s 3s/step - loss: 1.1229 - categorical_accuracy: 0.5868 - val_loss: 0.9856 - val_categorical_accuracy: 0.6400\n",
            "\n",
            "Epoch 00005: saving model to model_init_2020-06-2813_39_32.593448/model-00005-1.11360-0.58069-0.98557-0.64000.h5\n",
            "Epoch 6/30\n",
            "34/34 [==============================] - 101s 3s/step - loss: 1.0642 - categorical_accuracy: 0.6082 - val_loss: 3.5683 - val_categorical_accuracy: 0.4700\n",
            "\n",
            "Epoch 00006: saving model to model_init_2020-06-2813_39_32.593448/model-00006-1.05611-0.61916-3.56834-0.47000.h5\n",
            "Epoch 7/30\n",
            "34/34 [==============================] - 100s 3s/step - loss: 0.9724 - categorical_accuracy: 0.6424 - val_loss: 4.3101 - val_categorical_accuracy: 0.3900\n",
            "\n",
            "Epoch 00007: saving model to model_init_2020-06-2813_39_32.593448/model-00007-0.95912-0.65008-4.31013-0.39000.h5\n",
            "Epoch 8/30\n",
            "34/34 [==============================] - 102s 3s/step - loss: 0.8929 - categorical_accuracy: 0.6589 - val_loss: 2.0412 - val_categorical_accuracy: 0.5200\n",
            "\n",
            "Epoch 00008: saving model to model_init_2020-06-2813_39_32.593448/model-00008-0.88422-0.66290-2.04119-0.52000.h5\n",
            "\n",
            "Epoch 00008: ReduceLROnPlateau reducing learning rate to 0.00020000000949949026.\n",
            "Epoch 9/30\n",
            "34/34 [==============================] - 99s 3s/step - loss: 0.6671 - categorical_accuracy: 0.7439 - val_loss: 0.8020 - val_categorical_accuracy: 0.6900\n",
            "\n",
            "Epoch 00009: saving model to model_init_2020-06-2813_39_32.593448/model-00009-0.67826-0.73756-0.80200-0.69000.h5\n",
            "Epoch 10/30\n",
            "34/34 [==============================] - 102s 3s/step - loss: 0.5845 - categorical_accuracy: 0.7726 - val_loss: 0.6195 - val_categorical_accuracy: 0.7400\n",
            "\n",
            "Epoch 00010: saving model to model_init_2020-06-2813_39_32.593448/model-00010-0.59387-0.76697-0.61955-0.74000.h5\n",
            "Epoch 11/30\n",
            "34/34 [==============================] - 100s 3s/step - loss: 0.6362 - categorical_accuracy: 0.7730 - val_loss: 0.5563 - val_categorical_accuracy: 0.7600\n",
            "\n",
            "Epoch 00011: saving model to model_init_2020-06-2813_39_32.593448/model-00011-0.57399-0.78808-0.55633-0.76000.h5\n",
            "Epoch 12/30\n",
            "34/34 [==============================] - 102s 3s/step - loss: 0.6052 - categorical_accuracy: 0.7712 - val_loss: 0.5223 - val_categorical_accuracy: 0.7500\n",
            "\n",
            "Epoch 00012: saving model to model_init_2020-06-2813_39_32.593448/model-00012-0.57171-0.78205-0.52232-0.75000.h5\n",
            "Epoch 13/30\n",
            "34/34 [==============================] - 101s 3s/step - loss: 0.6288 - categorical_accuracy: 0.7700 - val_loss: 0.5698 - val_categorical_accuracy: 0.7300\n",
            "\n",
            "Epoch 00013: saving model to model_init_2020-06-2813_39_32.593448/model-00013-0.56827-0.78507-0.56984-0.73000.h5\n",
            "Epoch 14/30\n",
            "34/34 [==============================] - 103s 3s/step - loss: 0.5470 - categorical_accuracy: 0.7987 - val_loss: 0.4920 - val_categorical_accuracy: 0.7800\n",
            "\n",
            "Epoch 00014: saving model to model_init_2020-06-2813_39_32.593448/model-00014-0.55097-0.79789-0.49202-0.78000.h5\n",
            "Epoch 15/30\n",
            "34/34 [==============================] - 102s 3s/step - loss: 0.4376 - categorical_accuracy: 0.8267 - val_loss: 0.5725 - val_categorical_accuracy: 0.7700\n",
            "\n",
            "Epoch 00015: saving model to model_init_2020-06-2813_39_32.593448/model-00015-0.43863-0.82655-0.57247-0.77000.h5\n",
            "Epoch 16/30\n",
            "34/34 [==============================] - 102s 3s/step - loss: 0.3974 - categorical_accuracy: 0.8473 - val_loss: 0.5039 - val_categorical_accuracy: 0.8200\n",
            "\n",
            "Epoch 00016: saving model to model_init_2020-06-2813_39_32.593448/model-00016-0.38460-0.85596-0.50394-0.82000.h5\n",
            "Epoch 17/30\n",
            "34/34 [==============================] - 101s 3s/step - loss: 0.3974 - categorical_accuracy: 0.8543 - val_loss: 0.5353 - val_categorical_accuracy: 0.7900\n",
            "\n",
            "Epoch 00017: saving model to model_init_2020-06-2813_39_32.593448/model-00017-0.40240-0.85068-0.53534-0.79000.h5\n",
            "Epoch 18/30\n",
            "34/34 [==============================] - 101s 3s/step - loss: 0.3923 - categorical_accuracy: 0.8528 - val_loss: 0.5177 - val_categorical_accuracy: 0.7700\n",
            "\n",
            "Epoch 00018: saving model to model_init_2020-06-2813_39_32.593448/model-00018-0.36183-0.85747-0.51769-0.77000.h5\n",
            "\n",
            "Epoch 00018: ReduceLROnPlateau reducing learning rate to 4.0000001899898055e-05.\n",
            "Epoch 19/30\n",
            "34/34 [==============================] - 100s 3s/step - loss: 0.5628 - categorical_accuracy: 0.8260 - val_loss: 0.4516 - val_categorical_accuracy: 0.7800\n",
            "\n",
            "Epoch 00019: saving model to model_init_2020-06-2813_39_32.593448/model-00019-0.42240-0.84238-0.45159-0.78000.h5\n",
            "Epoch 20/30\n",
            "34/34 [==============================] - 103s 3s/step - loss: 0.3331 - categorical_accuracy: 0.8779 - val_loss: 0.4484 - val_categorical_accuracy: 0.8100\n",
            "\n",
            "Epoch 00020: saving model to model_init_2020-06-2813_39_32.593448/model-00020-0.33664-0.87481-0.44845-0.81000.h5\n",
            "Epoch 21/30\n",
            "34/34 [==============================] - 101s 3s/step - loss: 0.3090 - categorical_accuracy: 0.8823 - val_loss: 0.4447 - val_categorical_accuracy: 0.8500\n",
            "\n",
            "Epoch 00021: saving model to model_init_2020-06-2813_39_32.593448/model-00021-0.29904-0.88763-0.44471-0.85000.h5\n",
            "Epoch 22/30\n",
            "34/34 [==============================] - 103s 3s/step - loss: 0.3692 - categorical_accuracy: 0.8679 - val_loss: 0.4759 - val_categorical_accuracy: 0.8400\n",
            "\n",
            "Epoch 00022: saving model to model_init_2020-06-2813_39_32.593448/model-00022-0.33311-0.87707-0.47593-0.84000.h5\n",
            "Epoch 23/30\n",
            "34/34 [==============================] - 102s 3s/step - loss: 0.3216 - categorical_accuracy: 0.8779 - val_loss: 0.4872 - val_categorical_accuracy: 0.8600\n",
            "\n",
            "Epoch 00023: saving model to model_init_2020-06-2813_39_32.593448/model-00023-0.31466-0.88311-0.48723-0.86000.h5\n",
            "Epoch 24/30\n",
            "34/34 [==============================] - 99s 3s/step - loss: 0.3539 - categorical_accuracy: 0.8705 - val_loss: 0.4838 - val_categorical_accuracy: 0.8500\n",
            "\n",
            "Epoch 00024: saving model to model_init_2020-06-2813_39_32.593448/model-00024-0.30219-0.88386-0.48381-0.85000.h5\n",
            "Epoch 25/30\n",
            "34/34 [==============================] - 101s 3s/step - loss: 0.3180 - categorical_accuracy: 0.8815 - val_loss: 0.5433 - val_categorical_accuracy: 0.7700\n",
            "\n",
            "Epoch 00025: saving model to model_init_2020-06-2813_39_32.593448/model-00025-0.32357-0.87858-0.54326-0.77000.h5\n",
            "\n",
            "Epoch 00025: ReduceLROnPlateau reducing learning rate to 8.000000525498762e-06.\n",
            "Epoch 26/30\n",
            "34/34 [==============================] - 102s 3s/step - loss: 0.2584 - categorical_accuracy: 0.9117 - val_loss: 0.5253 - val_categorical_accuracy: 0.8100\n",
            "\n",
            "Epoch 00026: saving model to model_init_2020-06-2813_39_32.593448/model-00026-0.26083-0.90950-0.52529-0.81000.h5\n",
            "Epoch 27/30\n",
            "34/34 [==============================] - 101s 3s/step - loss: 0.3269 - categorical_accuracy: 0.8778 - val_loss: 0.5099 - val_categorical_accuracy: 0.8300\n",
            "\n",
            "Epoch 00027: saving model to model_init_2020-06-2813_39_32.593448/model-00027-0.30263-0.89140-0.50995-0.83000.h5\n",
            "Epoch 28/30\n",
            "34/34 [==============================] - 101s 3s/step - loss: 0.2953 - categorical_accuracy: 0.8870 - val_loss: 0.5093 - val_categorical_accuracy: 0.8200\n",
            "\n",
            "Epoch 00028: saving model to model_init_2020-06-2813_39_32.593448/model-00028-0.27635-0.89668-0.50931-0.82000.h5\n",
            "Epoch 29/30\n",
            "34/34 [==============================] - 103s 3s/step - loss: 0.2804 - categorical_accuracy: 0.8937 - val_loss: 0.5034 - val_categorical_accuracy: 0.8200\n",
            "\n",
            "Epoch 00029: saving model to model_init_2020-06-2813_39_32.593448/model-00029-0.26731-0.90347-0.50344-0.82000.h5\n",
            "\n",
            "Epoch 00029: ReduceLROnPlateau reducing learning rate to 1.6000001778593287e-06.\n",
            "Epoch 30/30\n",
            "34/34 [==============================] - 99s 3s/step - loss: 0.2976 - categorical_accuracy: 0.8966 - val_loss: 0.4963 - val_categorical_accuracy: 0.8300\n",
            "\n",
            "Epoch 00030: saving model to model_init_2020-06-2813_39_32.593448/model-00030-0.28959-0.89819-0.49625-0.83000.h5\n"
          ],
          "name": "stdout"
        }
      ]
    },
    {
      "cell_type": "code",
      "metadata": {
        "id": "kV9tky6UM7Es",
        "colab_type": "code",
        "colab": {},
        "outputId": "57693b85-82c9-4f42-c8a7-3af5742ee9a1"
      },
      "source": [
        "plot(history_model4)"
      ],
      "execution_count": null,
      "outputs": [
        {
          "output_type": "display_data",
          "data": {
            "image/png": "[encoded data removed]",
            "text/plain": [
              "<Figure size 1080x288 with 2 Axes>"
            ]
          },
          "metadata": {
            "tags": []
          }
        }
      ]
    },
    {
      "cell_type": "markdown",
      "metadata": {
        "id": "Gim7GT-5M7Ew",
        "colab_type": "text"
      },
      "source": [
        "#### Adding layers has definitely helped with the accuracy and the model doesnot overfit !"
      ]
    },
    {
      "cell_type": "markdown",
      "metadata": {
        "id": "i0mF1CpmM7Ex",
        "colab_type": "text"
      },
      "source": [
        "## Model 5- Adding dropout at convolution layers"
      ]
    },
    {
      "cell_type": "code",
      "metadata": {
        "id": "UVEThTzDM7Ey",
        "colab_type": "code",
        "colab": {}
      },
      "source": [
        "class ModelConv3D5(ModelBuilder):\n",
        "    \n",
        "    def define_model(self,filtersize=(3,3,3),dense_neurons=64,dropout=0.25):\n",
        "\n",
        "        model = Sequential()\n",
        "        model.add(Conv3D(16, filtersize, padding='same',\n",
        "                 input_shape=(self.frames_to_sample,self.image_height,self.image_width,self.channels)))\n",
        "        model.add(Activation('relu'))\n",
        "        model.add(BatchNormalization())\n",
        "        \n",
        "        model.add(Conv3D(16, filtersize, padding='same',\n",
        "                 input_shape=(self.frames_to_sample,self.image_height,self.image_width,self.channels)))\n",
        "        model.add(Activation('relu'))\n",
        "        model.add(BatchNormalization())\n",
        "        \n",
        "        model.add(MaxPooling3D(pool_size=(2, 2, 2)))\n",
        "        model.add(Dropout(dropout))\n",
        "\n",
        "        model.add(Conv3D(32, filtersize, padding='same'))\n",
        "        model.add(Activation('relu'))\n",
        "        model.add(BatchNormalization())\n",
        "        \n",
        "        model.add(Conv3D(32, filtersize, padding='same'))\n",
        "        model.add(Activation('relu'))\n",
        "        model.add(BatchNormalization())\n",
        "        \n",
        "        model.add(MaxPooling3D(pool_size=(2, 2, 2)))\n",
        "        model.add(Dropout(dropout))\n",
        "\n",
        "        model.add(Conv3D(64, filtersize, padding='same'))\n",
        "        model.add(Activation('relu'))\n",
        "        model.add(BatchNormalization())\n",
        "        \n",
        "        model.add(Conv3D(64, filtersize, padding='same'))\n",
        "        model.add(Activation('relu'))\n",
        "        model.add(BatchNormalization())\n",
        "        \n",
        "        model.add(MaxPooling3D(pool_size=(2, 2, 2)))\n",
        "        model.add(Dropout(dropout))\n",
        "\n",
        "        model.add(Conv3D(128, filtersize, padding='same'))\n",
        "        model.add(Activation('relu'))\n",
        "        model.add(BatchNormalization())\n",
        "        \n",
        "        model.add(Conv3D(128, filtersize, padding='same'))\n",
        "        model.add(Activation('relu'))\n",
        "        model.add(BatchNormalization())\n",
        "        \n",
        "        model.add(MaxPooling3D(pool_size=(2, 2, 2)))\n",
        "        model.add(Dropout(dropout))\n",
        "        \n",
        "        model.add(Flatten())\n",
        "        model.add(Dense(dense_neurons,activation='relu'))\n",
        "        model.add(BatchNormalization())\n",
        "        model.add(Dropout(dropout))\n",
        "\n",
        "        model.add(Dense(dense_neurons,activation='relu'))\n",
        "        model.add(BatchNormalization())\n",
        "        model.add(Dropout(dropout))\n",
        "\n",
        "\n",
        "        model.add(Dense(self.num_classes,activation='softmax'))\n",
        "\n",
        "        optimiser = optimizers.Adam()\n",
        "        model.compile(optimizer=optimiser, loss='categorical_crossentropy', metrics=['categorical_accuracy'])\n",
        "        return model"
      ],
      "execution_count": null,
      "outputs": []
    },
    {
      "cell_type": "code",
      "metadata": {
        "id": "i1QxIGmuM7E2",
        "colab_type": "code",
        "colab": {},
        "outputId": "37b005da-4ccd-4f5a-e457-89322e7df851"
      },
      "source": [
        "conv_3d5=ModelConv3D5()\n",
        "conv_3d5.initialize_path(project_folder)\n",
        "conv_3d5.initialize_image_properties(image_height=120,image_width=120)\n",
        "conv_3d5.initialize_hyperparams(frames_to_sample=16,batch_size=20,num_epochs=22)\n",
        "conv_3d5_model=conv_3d5.define_model(filtersize=(3,3,3),dense_neurons=256,dropout=0.25)\n",
        "conv_3d5_model.summary()"
      ],
      "execution_count": null,
      "outputs": [
        {
          "output_type": "stream",
          "text": [
            "_________________________________________________________________\n",
            "Layer (type)                 Output Shape              Param #   \n",
            "=================================================================\n",
            "conv3d_41 (Conv3D)           (None, 16, 120, 120, 16)  1312      \n",
            "_________________________________________________________________\n",
            "activation_41 (Activation)   (None, 16, 120, 120, 16)  0         \n",
            "_________________________________________________________________\n",
            "batch_normalization_59 (Batc (None, 16, 120, 120, 16)  64        \n",
            "_________________________________________________________________\n",
            "conv3d_42 (Conv3D)           (None, 16, 120, 120, 16)  6928      \n",
            "_________________________________________________________________\n",
            "activation_42 (Activation)   (None, 16, 120, 120, 16)  0         \n",
            "_________________________________________________________________\n",
            "batch_normalization_60 (Batc (None, 16, 120, 120, 16)  64        \n",
            "_________________________________________________________________\n",
            "max_pooling3d_37 (MaxPooling (None, 8, 60, 60, 16)     0         \n",
            "_________________________________________________________________\n",
            "dropout_19 (Dropout)         (None, 8, 60, 60, 16)     0         \n",
            "_________________________________________________________________\n",
            "conv3d_43 (Conv3D)           (None, 8, 60, 60, 32)     13856     \n",
            "_________________________________________________________________\n",
            "activation_43 (Activation)   (None, 8, 60, 60, 32)     0         \n",
            "_________________________________________________________________\n",
            "batch_normalization_61 (Batc (None, 8, 60, 60, 32)     128       \n",
            "_________________________________________________________________\n",
            "conv3d_44 (Conv3D)           (None, 8, 60, 60, 32)     27680     \n",
            "_________________________________________________________________\n",
            "activation_44 (Activation)   (None, 8, 60, 60, 32)     0         \n",
            "_________________________________________________________________\n",
            "batch_normalization_62 (Batc (None, 8, 60, 60, 32)     128       \n",
            "_________________________________________________________________\n",
            "max_pooling3d_38 (MaxPooling (None, 4, 30, 30, 32)     0         \n",
            "_________________________________________________________________\n",
            "dropout_20 (Dropout)         (None, 4, 30, 30, 32)     0         \n",
            "_________________________________________________________________\n",
            "conv3d_45 (Conv3D)           (None, 4, 30, 30, 64)     55360     \n",
            "_________________________________________________________________\n",
            "activation_45 (Activation)   (None, 4, 30, 30, 64)     0         \n",
            "_________________________________________________________________\n",
            "batch_normalization_63 (Batc (None, 4, 30, 30, 64)     256       \n",
            "_________________________________________________________________\n",
            "conv3d_46 (Conv3D)           (None, 4, 30, 30, 64)     110656    \n",
            "_________________________________________________________________\n",
            "activation_46 (Activation)   (None, 4, 30, 30, 64)     0         \n",
            "_________________________________________________________________\n",
            "batch_normalization_64 (Batc (None, 4, 30, 30, 64)     256       \n",
            "_________________________________________________________________\n",
            "max_pooling3d_39 (MaxPooling (None, 2, 15, 15, 64)     0         \n",
            "_________________________________________________________________\n",
            "dropout_21 (Dropout)         (None, 2, 15, 15, 64)     0         \n",
            "_________________________________________________________________\n",
            "conv3d_47 (Conv3D)           (None, 2, 15, 15, 128)    221312    \n",
            "_________________________________________________________________\n",
            "activation_47 (Activation)   (None, 2, 15, 15, 128)    0         \n",
            "_________________________________________________________________\n",
            "batch_normalization_65 (Batc (None, 2, 15, 15, 128)    512       \n",
            "_________________________________________________________________\n",
            "conv3d_48 (Conv3D)           (None, 2, 15, 15, 128)    442496    \n",
            "_________________________________________________________________\n",
            "activation_48 (Activation)   (None, 2, 15, 15, 128)    0         \n",
            "_________________________________________________________________\n",
            "batch_normalization_66 (Batc (None, 2, 15, 15, 128)    512       \n",
            "_________________________________________________________________\n",
            "max_pooling3d_40 (MaxPooling (None, 1, 7, 7, 128)      0         \n",
            "_________________________________________________________________\n",
            "dropout_22 (Dropout)         (None, 1, 7, 7, 128)      0         \n",
            "_________________________________________________________________\n",
            "flatten_10 (Flatten)         (None, 6272)              0         \n",
            "_________________________________________________________________\n",
            "dense_28 (Dense)             (None, 256)               1605888   \n",
            "_________________________________________________________________\n",
            "batch_normalization_67 (Batc (None, 256)               1024      \n",
            "_________________________________________________________________\n",
            "dropout_23 (Dropout)         (None, 256)               0         \n",
            "_________________________________________________________________\n",
            "dense_29 (Dense)             (None, 256)               65792     \n",
            "_________________________________________________________________\n",
            "batch_normalization_68 (Batc (None, 256)               1024      \n",
            "_________________________________________________________________\n",
            "dropout_24 (Dropout)         (None, 256)               0         \n",
            "_________________________________________________________________\n",
            "dense_30 (Dense)             (None, 5)                 1285      \n",
            "=================================================================\n",
            "Total params: 2,556,533\n",
            "Trainable params: 2,554,549\n",
            "Non-trainable params: 1,984\n",
            "_________________________________________________________________\n"
          ],
          "name": "stdout"
        }
      ]
    },
    {
      "cell_type": "code",
      "metadata": {
        "id": "UzSus1MKM7E6",
        "colab_type": "code",
        "colab": {},
        "outputId": "25fb66f1-4a4e-44f9-bc73-4b4fa9b9c4c4"
      },
      "source": [
        "print(\"Total Params:\", conv_3d5_model.count_params())\n",
        "history_model5=conv_3d5.train_model(conv_3d5_model,augment_data=True)"
      ],
      "execution_count": null,
      "outputs": [
        {
          "output_type": "stream",
          "text": [
            "Total Params: 2556533\n",
            "Epoch 1/22\n",
            "34/34 [==============================] - 112s 3s/step - loss: 1.7480 - categorical_accuracy: 0.3745 - val_loss: 4.0288 - val_categorical_accuracy: 0.2900\n",
            "\n",
            "Epoch 00001: saving model to model_init_2020-06-2814_41_15.297103/model-00001-1.74572-0.37557-4.02876-0.29000.h5\n",
            "Epoch 2/22\n",
            "34/34 [==============================] - 95s 3s/step - loss: 1.2601 - categorical_accuracy: 0.5007 - val_loss: 3.3391 - val_categorical_accuracy: 0.3500\n",
            "\n",
            "Epoch 00002: saving model to model_init_2020-06-2814_41_15.297103/model-00002-1.25313-0.50905-3.33914-0.35000.h5\n",
            "Epoch 3/22\n",
            "34/34 [==============================] - 96s 3s/step - loss: 1.0674 - categorical_accuracy: 0.5993 - val_loss: 2.1348 - val_categorical_accuracy: 0.4000\n",
            "\n",
            "Epoch 00003: saving model to model_init_2020-06-2814_41_15.297103/model-00003-1.04487-0.60181-2.13479-0.40000.h5\n",
            "Epoch 4/22\n",
            "34/34 [==============================] - 100s 3s/step - loss: 0.9633 - categorical_accuracy: 0.6218 - val_loss: 5.6821 - val_categorical_accuracy: 0.2800\n",
            "\n",
            "Epoch 00004: saving model to model_init_2020-06-2814_41_15.297103/model-00004-0.97999-0.61237-5.68206-0.28000.h5\n",
            "Epoch 5/22\n",
            "34/34 [==============================] - 101s 3s/step - loss: 0.8948 - categorical_accuracy: 0.6578 - val_loss: 1.9849 - val_categorical_accuracy: 0.5000\n",
            "\n",
            "Epoch 00005: saving model to model_init_2020-06-2814_41_15.297103/model-00005-0.90080-0.65762-1.98493-0.50000.h5\n",
            "Epoch 6/22\n",
            "34/34 [==============================] - 98s 3s/step - loss: 0.7899 - categorical_accuracy: 0.7086 - val_loss: 2.5406 - val_categorical_accuracy: 0.4300\n",
            "\n",
            "Epoch 00006: saving model to model_init_2020-06-2814_41_15.297103/model-00006-0.75438-0.71795-2.54065-0.43000.h5\n",
            "Epoch 7/22\n",
            "34/34 [==============================] - 99s 3s/step - loss: 0.8152 - categorical_accuracy: 0.6814 - val_loss: 3.3323 - val_categorical_accuracy: 0.3800\n",
            "\n",
            "Epoch 00007: saving model to model_init_2020-06-2814_41_15.297103/model-00007-0.78905-0.69005-3.33230-0.38000.h5\n",
            "Epoch 8/22\n",
            "34/34 [==============================] - 99s 3s/step - loss: 0.7305 - categorical_accuracy: 0.7307 - val_loss: 1.1381 - val_categorical_accuracy: 0.6500\n",
            "\n",
            "Epoch 00008: saving model to model_init_2020-06-2814_41_15.297103/model-00008-0.71025-0.74057-1.13805-0.65000.h5\n",
            "Epoch 9/22\n",
            "34/34 [==============================] - 98s 3s/step - loss: 0.6911 - categorical_accuracy: 0.7333 - val_loss: 1.5333 - val_categorical_accuracy: 0.6500\n",
            "\n",
            "Epoch 00009: saving model to model_init_2020-06-2814_41_15.297103/model-00009-0.69227-0.73077-1.53333-0.65000.h5\n",
            "Epoch 10/22\n",
            "34/34 [==============================] - 97s 3s/step - loss: 0.6026 - categorical_accuracy: 0.7719 - val_loss: 0.9721 - val_categorical_accuracy: 0.6300\n",
            "\n",
            "Epoch 00010: saving model to model_init_2020-06-2814_41_15.297103/model-00010-0.60270-0.77451-0.97212-0.63000.h5\n",
            "Epoch 11/22\n",
            "34/34 [==============================] - 97s 3s/step - loss: 0.5519 - categorical_accuracy: 0.7807 - val_loss: 0.9472 - val_categorical_accuracy: 0.6600\n",
            "\n",
            "Epoch 00011: saving model to model_init_2020-06-2814_41_15.297103/model-00011-0.54857-0.78356-0.94723-0.66000.h5\n",
            "Epoch 12/22\n",
            "34/34 [==============================] - 99s 3s/step - loss: 0.5865 - categorical_accuracy: 0.7973 - val_loss: 1.9620 - val_categorical_accuracy: 0.4900\n",
            "\n",
            "Epoch 00012: saving model to model_init_2020-06-2814_41_15.297103/model-00012-0.53606-0.79638-1.96204-0.49000.h5\n",
            "Epoch 13/22\n",
            "34/34 [==============================] - 98s 3s/step - loss: 0.4765 - categorical_accuracy: 0.8168 - val_loss: 0.9495 - val_categorical_accuracy: 0.6800\n",
            "\n",
            "Epoch 00013: saving model to model_init_2020-06-2814_41_15.297103/model-00013-0.46884-0.82051-0.94949-0.68000.h5\n",
            "Epoch 14/22\n",
            "34/34 [==============================] - 100s 3s/step - loss: 0.4216 - categorical_accuracy: 0.8411 - val_loss: 0.9841 - val_categorical_accuracy: 0.6100\n",
            "\n",
            "Epoch 00014: saving model to model_init_2020-06-2814_41_15.297103/model-00014-0.42191-0.84540-0.98406-0.61000.h5\n",
            "Epoch 15/22\n",
            "34/34 [==============================] - 101s 3s/step - loss: 0.4249 - categorical_accuracy: 0.8355 - val_loss: 1.0305 - val_categorical_accuracy: 0.6400\n",
            "\n",
            "Epoch 00015: saving model to model_init_2020-06-2814_41_15.297103/model-00015-0.39001-0.85219-1.03052-0.64000.h5\n",
            "\n",
            "Epoch 00015: ReduceLROnPlateau reducing learning rate to 0.00020000000949949026.\n",
            "Epoch 16/22\n",
            "34/34 [==============================] - 100s 3s/step - loss: 0.2662 - categorical_accuracy: 0.9021 - val_loss: 0.8483 - val_categorical_accuracy: 0.7300\n",
            "\n",
            "Epoch 00016: saving model to model_init_2020-06-2814_41_15.297103/model-00016-0.26899-0.89970-0.84825-0.73000.h5\n",
            "Epoch 17/22\n",
            "34/34 [==============================] - 102s 3s/step - loss: 0.2401 - categorical_accuracy: 0.9099 - val_loss: 0.7485 - val_categorical_accuracy: 0.7400\n",
            "\n",
            "Epoch 00017: saving model to model_init_2020-06-2814_41_15.297103/model-00017-0.23103-0.91176-0.74846-0.74000.h5\n",
            "Epoch 18/22\n",
            "34/34 [==============================] - 102s 3s/step - loss: 0.2124 - categorical_accuracy: 0.9286 - val_loss: 1.0121 - val_categorical_accuracy: 0.6300\n",
            "\n",
            "Epoch 00018: saving model to model_init_2020-06-2814_41_15.297103/model-00018-0.21620-0.92685-1.01207-0.63000.h5\n",
            "Epoch 19/22\n",
            "34/34 [==============================] - 101s 3s/step - loss: 0.1815 - categorical_accuracy: 0.9411 - val_loss: 1.1356 - val_categorical_accuracy: 0.5900\n",
            "\n",
            "Epoch 00019: saving model to model_init_2020-06-2814_41_15.297103/model-00019-0.16592-0.94796-1.13557-0.59000.h5\n",
            "Epoch 20/22\n",
            "34/34 [==============================] - 100s 3s/step - loss: 0.1910 - categorical_accuracy: 0.9316 - val_loss: 1.1336 - val_categorical_accuracy: 0.6200\n",
            "\n",
            "Epoch 00020: saving model to model_init_2020-06-2814_41_15.297103/model-00020-0.19477-0.92986-1.13364-0.62000.h5\n",
            "Epoch 21/22\n",
            "34/34 [==============================] - 100s 3s/step - loss: 0.1762 - categorical_accuracy: 0.9389 - val_loss: 0.9746 - val_categorical_accuracy: 0.6300\n",
            "\n",
            "Epoch 00021: saving model to model_init_2020-06-2814_41_15.297103/model-00021-0.17904-0.93741-0.97457-0.63000.h5\n",
            "\n",
            "Epoch 00021: ReduceLROnPlateau reducing learning rate to 4.0000001899898055e-05.\n",
            "Epoch 22/22\n",
            "34/34 [==============================] - 100s 3s/step - loss: 0.1605 - categorical_accuracy: 0.9570 - val_loss: 0.9679 - val_categorical_accuracy: 0.6700\n",
            "\n",
            "Epoch 00022: saving model to model_init_2020-06-2814_41_15.297103/model-00022-0.15119-0.96003-0.96790-0.67000.h5\n"
          ],
          "name": "stdout"
        }
      ]
    },
    {
      "cell_type": "code",
      "metadata": {
        "id": "DWBudvWPM7E-",
        "colab_type": "code",
        "colab": {},
        "outputId": "75b8a726-bb3b-4e41-a59d-90725cf66bb4"
      },
      "source": [
        "plot(history_model5)"
      ],
      "execution_count": null,
      "outputs": [
        {
          "output_type": "display_data",
          "data": {
            "image/png": "[encoded data removed]",
            "text/plain": [
              "<Figure size 1080x288 with 2 Axes>"
            ]
          },
          "metadata": {
            "tags": []
          }
        }
      ]
    },
    {
      "cell_type": "markdown",
      "metadata": {
        "id": "phNLryhdM7FF",
        "colab_type": "text"
      },
      "source": [
        "#### Adding dropouts at convulational layers has reduced validation accuracy a lot ! "
      ]
    },
    {
      "cell_type": "markdown",
      "metadata": {
        "id": "-1CX0SpKM7FG",
        "colab_type": "text"
      },
      "source": [
        "## Model 6- Reducing Parameters"
      ]
    },
    {
      "cell_type": "code",
      "metadata": {
        "id": "2EKkrHv8M7FH",
        "colab_type": "code",
        "colab": {}
      },
      "source": [
        "class ModelConv3D6(ModelBuilder):\n",
        "    \n",
        "    def define_model(self,dense_neurons=64,dropout=0.25):\n",
        "\n",
        "        model = Sequential()\n",
        "        model.add(Conv3D(8, (3, 3, 3), padding='same',\n",
        "                 input_shape=(self.frames_to_sample,self.image_height,self.image_width,self.channels)))\n",
        "        model.add(Activation('relu'))\n",
        "        model.add(BatchNormalization())\n",
        "        model.add(MaxPooling3D(pool_size=(2, 2, 2)))\n",
        "\n",
        "        model.add(Conv3D(16, (3, 3, 3), padding='same'))\n",
        "        model.add(Activation('relu'))\n",
        "        model.add(BatchNormalization())\n",
        "        model.add(MaxPooling3D(pool_size=(2, 2, 2)))\n",
        "\n",
        "        model.add(Conv3D(32, (2, 2, 2), padding='same'))\n",
        "        model.add(Activation('relu'))\n",
        "        model.add(BatchNormalization())\n",
        "        model.add(MaxPooling3D(pool_size=(2, 2, 2)))\n",
        "\n",
        "        model.add(Conv3D(64, (2, 2, 2), padding='same'))\n",
        "        model.add(Activation('relu'))\n",
        "        model.add(BatchNormalization())\n",
        "        model.add(MaxPooling3D(pool_size=(2, 2, 2)))\n",
        "        \n",
        "        model.add(Flatten())\n",
        "        model.add(Dense(dense_neurons,activation='relu'))\n",
        "        model.add(BatchNormalization())\n",
        "        model.add(Dropout(dropout))\n",
        "\n",
        "        model.add(Dense(dense_neurons,activation='relu'))\n",
        "        model.add(BatchNormalization())\n",
        "        model.add(Dropout(dropout))\n",
        "\n",
        "        model.add(Dense(self.num_classes,activation='softmax'))\n",
        "\n",
        "        optimiser = optimizers.Adam(lr=0.0002)\n",
        "        model.compile(optimizer=optimiser, loss='categorical_crossentropy', metrics=['categorical_accuracy'])\n",
        "        return model"
      ],
      "execution_count": null,
      "outputs": []
    },
    {
      "cell_type": "code",
      "metadata": {
        "id": "IK77VPO7M7FN",
        "colab_type": "code",
        "colab": {},
        "outputId": "ed9dfb24-1c17-42b1-c84d-1a131b721ddf"
      },
      "source": [
        "conv_3d6=ModelConv3D6()\n",
        "conv_3d6.initialize_path(project_folder)\n",
        "conv_3d6.initialize_image_properties(image_height=120,image_width=120)\n",
        "conv_3d6.initialize_hyperparams(frames_to_sample=16,batch_size=20,num_epochs=30)\n",
        "conv_3d6_model=conv_3d6.define_model(dense_neurons=64,dropout=0.25)\n",
        "conv_3d6_model.summary()"
      ],
      "execution_count": null,
      "outputs": [
        {
          "output_type": "stream",
          "text": [
            "_________________________________________________________________\n",
            "Layer (type)                 Output Shape              Param #   \n",
            "=================================================================\n",
            "conv3d_17 (Conv3D)           (None, 16, 120, 120, 8)   656       \n",
            "_________________________________________________________________\n",
            "activation_17 (Activation)   (None, 16, 120, 120, 8)   0         \n",
            "_________________________________________________________________\n",
            "batch_normalization_25 (Batc (None, 16, 120, 120, 8)   32        \n",
            "_________________________________________________________________\n",
            "max_pooling3d_17 (MaxPooling (None, 8, 60, 60, 8)      0         \n",
            "_________________________________________________________________\n",
            "conv3d_18 (Conv3D)           (None, 8, 60, 60, 16)     3472      \n",
            "_________________________________________________________________\n",
            "activation_18 (Activation)   (None, 8, 60, 60, 16)     0         \n",
            "_________________________________________________________________\n",
            "batch_normalization_26 (Batc (None, 8, 60, 60, 16)     64        \n",
            "_________________________________________________________________\n",
            "max_pooling3d_18 (MaxPooling (None, 4, 30, 30, 16)     0         \n",
            "_________________________________________________________________\n",
            "conv3d_19 (Conv3D)           (None, 4, 30, 30, 32)     4128      \n",
            "_________________________________________________________________\n",
            "activation_19 (Activation)   (None, 4, 30, 30, 32)     0         \n",
            "_________________________________________________________________\n",
            "batch_normalization_27 (Batc (None, 4, 30, 30, 32)     128       \n",
            "_________________________________________________________________\n",
            "max_pooling3d_19 (MaxPooling (None, 2, 15, 15, 32)     0         \n",
            "_________________________________________________________________\n",
            "conv3d_20 (Conv3D)           (None, 2, 15, 15, 64)     16448     \n",
            "_________________________________________________________________\n",
            "activation_20 (Activation)   (None, 2, 15, 15, 64)     0         \n",
            "_________________________________________________________________\n",
            "batch_normalization_28 (Batc (None, 2, 15, 15, 64)     256       \n",
            "_________________________________________________________________\n",
            "max_pooling3d_20 (MaxPooling (None, 1, 7, 7, 64)       0         \n",
            "_________________________________________________________________\n",
            "flatten_5 (Flatten)          (None, 3136)              0         \n",
            "_________________________________________________________________\n",
            "dense_13 (Dense)             (None, 64)                200768    \n",
            "_________________________________________________________________\n",
            "batch_normalization_29 (Batc (None, 64)                256       \n",
            "_________________________________________________________________\n",
            "dropout_9 (Dropout)          (None, 64)                0         \n",
            "_________________________________________________________________\n",
            "dense_14 (Dense)             (None, 64)                4160      \n",
            "_________________________________________________________________\n",
            "batch_normalization_30 (Batc (None, 64)                256       \n",
            "_________________________________________________________________\n",
            "dropout_10 (Dropout)         (None, 64)                0         \n",
            "_________________________________________________________________\n",
            "dense_15 (Dense)             (None, 5)                 325       \n",
            "=================================================================\n",
            "Total params: 230,949\n",
            "Trainable params: 230,453\n",
            "Non-trainable params: 496\n",
            "_________________________________________________________________\n"
          ],
          "name": "stdout"
        }
      ]
    },
    {
      "cell_type": "code",
      "metadata": {
        "id": "vofYAj6GM7FU",
        "colab_type": "code",
        "colab": {},
        "outputId": "1d5e0695-1166-4a39-f144-984f6519e9f3"
      },
      "source": [
        "print(\"Total Params:\", conv_3d6_model.count_params())\n",
        "history_model6=conv_3d6.train_model(conv_3d6_model,augment_data=True)"
      ],
      "execution_count": null,
      "outputs": [
        {
          "output_type": "stream",
          "text": [
            "Total Params: 230949\n",
            "Epoch 1/30\n",
            "34/34 [==============================] - 94s 3s/step - loss: 2.1263 - categorical_accuracy: 0.2535 - val_loss: 1.5741 - val_categorical_accuracy: 0.3800\n",
            "\n",
            "Epoch 00001: saving model to model_init_2020-06-2716_41_21.344018/model-00001-2.12539-0.25566-1.57407-0.38000.h5\n",
            "Epoch 2/30\n",
            "34/34 [==============================] - 85s 2s/step - loss: 1.5689 - categorical_accuracy: 0.3878 - val_loss: 1.4148 - val_categorical_accuracy: 0.4400\n",
            "\n",
            "Epoch 00002: saving model to model_init_2020-06-2716_41_21.344018/model-00002-1.56198-0.38914-1.41477-0.44000.h5\n",
            "Epoch 3/30\n",
            "34/34 [==============================] - 88s 3s/step - loss: 1.3997 - categorical_accuracy: 0.4577 - val_loss: 1.2775 - val_categorical_accuracy: 0.4900\n",
            "\n",
            "Epoch 00003: saving model to model_init_2020-06-2716_41_21.344018/model-00003-1.39152-0.46078-1.27751-0.49000.h5\n",
            "Epoch 4/30\n",
            "34/34 [==============================] - 88s 3s/step - loss: 1.2504 - categorical_accuracy: 0.5081 - val_loss: 1.3182 - val_categorical_accuracy: 0.4700\n",
            "\n",
            "Epoch 00004: saving model to model_init_2020-06-2716_41_21.344018/model-00004-1.22975-0.51659-1.31816-0.47000.h5\n",
            "Epoch 5/30\n",
            "34/34 [==============================] - 88s 3s/step - loss: 1.1266 - categorical_accuracy: 0.5618 - val_loss: 1.3157 - val_categorical_accuracy: 0.5600\n",
            "\n",
            "Epoch 00005: saving model to model_init_2020-06-2716_41_21.344018/model-00005-1.10154-0.57164-1.31570-0.56000.h5\n",
            "Epoch 6/30\n",
            "34/34 [==============================] - 89s 3s/step - loss: 1.1082 - categorical_accuracy: 0.5769 - val_loss: 1.0266 - val_categorical_accuracy: 0.6000\n",
            "\n",
            "Epoch 00006: saving model to model_init_2020-06-2716_41_21.344018/model-00006-1.07901-0.58296-1.02660-0.60000.h5\n",
            "Epoch 7/30\n",
            "34/34 [==============================] - 88s 3s/step - loss: 0.9460 - categorical_accuracy: 0.6277 - val_loss: 1.0377 - val_categorical_accuracy: 0.5900\n",
            "\n",
            "Epoch 00007: saving model to model_init_2020-06-2716_41_21.344018/model-00007-0.94719-0.62670-1.03766-0.59000.h5\n",
            "Epoch 8/30\n",
            "34/34 [==============================] - 88s 3s/step - loss: 0.9478 - categorical_accuracy: 0.6420 - val_loss: 1.0005 - val_categorical_accuracy: 0.6000\n",
            "\n",
            "Epoch 00008: saving model to model_init_2020-06-2716_41_21.344018/model-00008-0.93529-0.64555-1.00046-0.60000.h5\n",
            "Epoch 9/30\n",
            "34/34 [==============================] - 89s 3s/step - loss: 0.8816 - categorical_accuracy: 0.6321 - val_loss: 1.0161 - val_categorical_accuracy: 0.6000\n",
            "\n",
            "Epoch 00009: saving model to model_init_2020-06-2716_41_21.344018/model-00009-0.88011-0.63952-1.01614-0.60000.h5\n",
            "Epoch 10/30\n",
            "34/34 [==============================] - 88s 3s/step - loss: 0.8434 - categorical_accuracy: 0.6748 - val_loss: 0.9682 - val_categorical_accuracy: 0.6100\n",
            "\n",
            "Epoch 00010: saving model to model_init_2020-06-2716_41_21.344018/model-00010-0.83944-0.67496-0.96821-0.61000.h5\n",
            "Epoch 11/30\n",
            "34/34 [==============================] - 88s 3s/step - loss: 0.8563 - categorical_accuracy: 0.6700 - val_loss: 0.9059 - val_categorical_accuracy: 0.6900\n",
            "\n",
            "Epoch 00011: saving model to model_init_2020-06-2716_41_21.344018/model-00011-0.83214-0.67421-0.90593-0.69000.h5\n",
            "Epoch 12/30\n",
            "34/34 [==============================] - 88s 3s/step - loss: 0.7940 - categorical_accuracy: 0.6891 - val_loss: 0.9665 - val_categorical_accuracy: 0.6200\n",
            "\n",
            "Epoch 00012: saving model to model_init_2020-06-2716_41_21.344018/model-00012-0.78058-0.69382-0.96648-0.62000.h5\n",
            "Epoch 13/30\n",
            "34/34 [==============================] - 88s 3s/step - loss: 0.7735 - categorical_accuracy: 0.6990 - val_loss: 1.1941 - val_categorical_accuracy: 0.5300\n",
            "\n",
            "Epoch 00013: saving model to model_init_2020-06-2716_41_21.344018/model-00013-0.75415-0.70814-1.19411-0.53000.h5\n",
            "Epoch 14/30\n",
            "34/34 [==============================] - 86s 3s/step - loss: 0.7299 - categorical_accuracy: 0.7174 - val_loss: 0.9914 - val_categorical_accuracy: 0.6300\n",
            "\n",
            "Epoch 00014: saving model to model_init_2020-06-2716_41_21.344018/model-00014-0.73937-0.71041-0.99142-0.63000.h5\n",
            "Epoch 15/30\n",
            "34/34 [==============================] - 86s 3s/step - loss: 0.6694 - categorical_accuracy: 0.7399 - val_loss: 1.0582 - val_categorical_accuracy: 0.5800\n",
            "\n",
            "Epoch 00015: saving model to model_init_2020-06-2716_41_21.344018/model-00015-0.65581-0.74585-1.05817-0.58000.h5\n",
            "\n",
            "Epoch 00015: ReduceLROnPlateau reducing learning rate to 3.9999998989515007e-05.\n",
            "Epoch 16/30\n",
            "34/34 [==============================] - 86s 3s/step - loss: 0.6586 - categorical_accuracy: 0.7472 - val_loss: 0.9857 - val_categorical_accuracy: 0.6300\n",
            "\n",
            "Epoch 00016: saving model to model_init_2020-06-2716_41_21.344018/model-00016-0.64598-0.75339-0.98569-0.63000.h5\n",
            "Epoch 17/30\n",
            "34/34 [==============================] - 86s 3s/step - loss: 0.6393 - categorical_accuracy: 0.7634 - val_loss: 0.9635 - val_categorical_accuracy: 0.6200\n",
            "\n",
            "Epoch 00017: saving model to model_init_2020-06-2716_41_21.344018/model-00017-0.62043-0.76998-0.96354-0.62000.h5\n",
            "Epoch 18/30\n",
            "34/34 [==============================] - 86s 3s/step - loss: 0.6584 - categorical_accuracy: 0.7487 - val_loss: 0.9309 - val_categorical_accuracy: 0.6500\n",
            "\n",
            "Epoch 00018: saving model to model_init_2020-06-2716_41_21.344018/model-00018-0.64351-0.75490-0.93091-0.65000.h5\n",
            "Epoch 19/30\n",
            "34/34 [==============================] - 86s 3s/step - loss: 0.5936 - categorical_accuracy: 0.7855 - val_loss: 0.9189 - val_categorical_accuracy: 0.6300\n",
            "\n",
            "Epoch 00019: saving model to model_init_2020-06-2716_41_21.344018/model-00019-0.59799-0.78431-0.91891-0.63000.h5\n",
            "\n",
            "Epoch 00019: ReduceLROnPlateau reducing learning rate to 7.999999797903002e-06.\n",
            "Epoch 20/30\n",
            "34/34 [==============================] - 86s 3s/step - loss: 0.6102 - categorical_accuracy: 0.7734 - val_loss: 0.9167 - val_categorical_accuracy: 0.6300\n",
            "\n",
            "Epoch 00020: saving model to model_init_2020-06-2716_41_21.344018/model-00020-0.60332-0.77602-0.91674-0.63000.h5\n",
            "Epoch 21/30\n",
            "34/34 [==============================] - 86s 3s/step - loss: 0.5602 - categorical_accuracy: 0.7925 - val_loss: 0.9162 - val_categorical_accuracy: 0.6300\n",
            "\n",
            "Epoch 00021: saving model to model_init_2020-06-2716_41_21.344018/model-00021-0.56378-0.79563-0.91622-0.63000.h5\n",
            "Epoch 22/30\n",
            "34/34 [==============================] - 87s 3s/step - loss: 0.6583 - categorical_accuracy: 0.7454 - val_loss: 0.9184 - val_categorical_accuracy: 0.6400\n",
            "\n",
            "Epoch 00022: saving model to model_init_2020-06-2716_41_21.344018/model-00022-0.63517-0.75566-0.91839-0.64000.h5\n",
            "Epoch 23/30\n",
            "34/34 [==============================] - 87s 3s/step - loss: 0.6288 - categorical_accuracy: 0.7752 - val_loss: 0.9171 - val_categorical_accuracy: 0.6400\n",
            "\n",
            "Epoch 00023: saving model to model_init_2020-06-2716_41_21.344018/model-00023-0.62154-0.78205-0.91705-0.64000.h5\n",
            "\n",
            "Epoch 00023: ReduceLROnPlateau reducing learning rate to 1.5999999959603884e-06.\n",
            "Epoch 24/30\n",
            "34/34 [==============================] - 88s 3s/step - loss: 0.6337 - categorical_accuracy: 0.7781 - val_loss: 0.9159 - val_categorical_accuracy: 0.6500\n",
            "\n",
            "Epoch 00024: saving model to model_init_2020-06-2716_41_21.344018/model-00024-0.60983-0.78507-0.91585-0.65000.h5\n",
            "Epoch 25/30\n",
            "34/34 [==============================] - 86s 3s/step - loss: 0.6355 - categorical_accuracy: 0.7741 - val_loss: 0.9152 - val_categorical_accuracy: 0.6500\n",
            "\n",
            "Epoch 00025: saving model to model_init_2020-06-2716_41_21.344018/model-00025-0.61318-0.78507-0.91517-0.65000.h5\n",
            "Epoch 26/30\n",
            "34/34 [==============================] - 85s 3s/step - loss: 0.5892 - categorical_accuracy: 0.7866 - val_loss: 0.9145 - val_categorical_accuracy: 0.6500\n",
            "\n",
            "Epoch 00026: saving model to model_init_2020-06-2716_41_21.344018/model-00026-0.57968-0.78959-0.91447-0.65000.h5\n",
            "Epoch 27/30\n",
            "34/34 [==============================] - 86s 3s/step - loss: 0.6335 - categorical_accuracy: 0.7645 - val_loss: 0.9142 - val_categorical_accuracy: 0.6400\n",
            "\n",
            "Epoch 00027: saving model to model_init_2020-06-2716_41_21.344018/model-00027-0.61350-0.76697-0.91424-0.64000.h5\n",
            "\n",
            "Epoch 00027: ReduceLROnPlateau reducing learning rate to 3.200000037395512e-07.\n",
            "Epoch 28/30\n",
            "34/34 [==============================] - 86s 3s/step - loss: 0.6261 - categorical_accuracy: 0.7631 - val_loss: 0.9144 - val_categorical_accuracy: 0.6300\n",
            "\n",
            "Epoch 00028: saving model to model_init_2020-06-2716_41_21.344018/model-00028-0.60502-0.77376-0.91439-0.63000.h5\n",
            "Epoch 29/30\n",
            "34/34 [==============================] - 85s 2s/step - loss: 0.5996 - categorical_accuracy: 0.7991 - val_loss: 0.9139 - val_categorical_accuracy: 0.6300\n",
            "\n",
            "Epoch 00029: saving model to model_init_2020-06-2716_41_21.344018/model-00029-0.56720-0.81071-0.91388-0.63000.h5\n",
            "Epoch 30/30\n",
            "34/34 [==============================] - 85s 2s/step - loss: 0.5770 - categorical_accuracy: 0.7859 - val_loss: 0.9133 - val_categorical_accuracy: 0.6400\n",
            "\n",
            "Epoch 00030: saving model to model_init_2020-06-2716_41_21.344018/model-00030-0.58599-0.78054-0.91330-0.64000.h5\n"
          ],
          "name": "stdout"
        }
      ]
    },
    {
      "cell_type": "code",
      "metadata": {
        "id": "HxjqwlsfM7Fd",
        "colab_type": "code",
        "colab": {},
        "outputId": "67ed494f-41c2-4b93-9ec9-ea75afb3363a"
      },
      "source": [
        "plot(history_model6)"
      ],
      "execution_count": null,
      "outputs": [
        {
          "output_type": "display_data",
          "data": {
            "image/png": "[encoded data removed]",
            "text/plain": [
              "<Figure size 1080x288 with 2 Axes>"
            ]
          },
          "metadata": {
            "tags": []
          }
        }
      ]
    },
    {
      "cell_type": "markdown",
      "metadata": {
        "id": "UAwetxZZM7Fm",
        "colab_type": "text"
      },
      "source": [
        "## More Augmentation "
      ]
    },
    {
      "cell_type": "code",
      "metadata": {
        "id": "qummrcZXM7Fn",
        "colab_type": "code",
        "colab": {}
      },
      "source": [
        "class ModelBuilderMoreAugmentation(metaclass= abc.ABCMeta):\n",
        "    \n",
        "    def initialize_path(self,project_folder):\n",
        "        self.train_doc = np.random.permutation(open(project_folder + '/' + 'train.csv').readlines())\n",
        "        self.val_doc = np.random.permutation(open(project_folder + '/' + 'val.csv').readlines())\n",
        "        self.train_path = project_folder + '/' + 'train'\n",
        "        self.val_path =  project_folder + '/' + 'val'\n",
        "        self.num_train_sequences = len(self.train_doc)\n",
        "        self.num_val_sequences = len(self.val_doc)\n",
        "        \n",
        "    def initialize_image_properties(self,image_height=100,image_width=100):\n",
        "        self.image_height=image_height\n",
        "        self.image_width=image_width\n",
        "        self.channels=3\n",
        "        self.num_classes=5\n",
        "        self.total_frames=30\n",
        "          \n",
        "    def initialize_hyperparams(self,frames_to_sample=30,batch_size=20,num_epochs=20):\n",
        "        self.frames_to_sample=frames_to_sample\n",
        "        self.batch_size=batch_size\n",
        "        self.num_epochs=num_epochs\n",
        "        \n",
        "        \n",
        "    def generator(self,source_path, folder_list, augment=False):\n",
        "        img_idx = np.round(np.linspace(0,self.total_frames-1,self.frames_to_sample)).astype(int)\n",
        "        batch_size=self.batch_size\n",
        "        while True:\n",
        "            t = np.random.permutation(folder_list)\n",
        "            num_batches = len(t)//batch_size\n",
        "        \n",
        "            for batch in range(num_batches): \n",
        "                batch_data, batch_labels= self.one_batch_data(source_path,t,batch,batch_size,img_idx,augment)\n",
        "                yield batch_data, batch_labels \n",
        "\n",
        "            remaining_seq=len(t)%batch_size\n",
        "        \n",
        "            if (remaining_seq != 0):\n",
        "                batch_data, batch_labels= self.one_batch_data(source_path,t,num_batches,batch_size,img_idx,augment,remaining_seq)\n",
        "                yield batch_data, batch_labels \n",
        "    \n",
        "    \n",
        "    def one_batch_data(self,source_path,t,batch,batch_size,img_idx,augment,remaining_seq=0):\n",
        "    \n",
        "        seq_len = remaining_seq if remaining_seq else batch_size\n",
        "    \n",
        "        batch_data = np.zeros((seq_len,len(img_idx),self.image_height,self.image_width,self.channels)) \n",
        "        batch_labels = np.zeros((seq_len,self.num_classes)) \n",
        "    \n",
        "        if (augment): batch_data_aug = np.zeros((seq_len,len(img_idx),self.image_height,self.image_width,self.channels))\n",
        "\n",
        "        \n",
        "        for folder in range(seq_len): \n",
        "            imgs = os.listdir(source_path+'/'+ t[folder + (batch*batch_size)].split(';')[0]) \n",
        "            for idx,item in enumerate(img_idx): \n",
        "                image = imread(source_path+'/'+ t[folder + (batch*batch_size)].strip().split(';')[0]+'/'+imgs[item]).astype(np.float32)\n",
        "                image_resized=imresize(image,(self.image_height,self.image_width,3))\n",
        "            \n",
        "\n",
        "                batch_data[folder,idx,:,:,0] = (image_resized[:,:,0])/255\n",
        "                batch_data[folder,idx,:,:,1] = (image_resized[:,:,1])/255\n",
        "                batch_data[folder,idx,:,:,2] = (image_resized[:,:,2])/255\n",
        "            \n",
        "                if (augment):\n",
        "                    shifted = cv2.warpAffine(image, \n",
        "                                             np.float32([[1, 0, np.random.randint(-30,30)],[0, 1, np.random.randint(-30,30)]]), \n",
        "                                            (image.shape[1], image.shape[0]))\n",
        "                    \n",
        "                    gray = cv2.cvtColor(shifted,cv2.COLOR_BGR2GRAY)\n",
        "\n",
        "                    x0, y0 = np.argwhere(gray > 0).min(axis=0)\n",
        "                    x1, y1 = np.argwhere(gray > 0).max(axis=0) \n",
        "                    \n",
        "                    cropped=shifted[x0:x1,y0:y1,:]\n",
        "                    \n",
        "                    image_resized=imresize(cropped,(self.image_height,self.image_width,3))\n",
        "                    \n",
        "                    M = cv2.getRotationMatrix2D((self.image_width//2,self.image_height//2),\n",
        "                                                np.random.randint(-10,10), 1.0)\n",
        "                    rotated = cv2.warpAffine(image_resized, M, (self.image_width, self.image_height))\n",
        "                    \n",
        "                    #shifted = cv2.warpAffine(image_resized, \n",
        "                    #                        np.float32([[1, 0, np.random.randint(-3,3)],[0, 1, np.random.randint(-3,3)]]), \n",
        "                    #                        (image_resized.shape[1], image_resized.shape[0]))\n",
        "            \n",
        "                    batch_data_aug[folder,idx,:,:,0] = (rotated[:,:,0])/255\n",
        "                    batch_data_aug[folder,idx,:,:,1] = (rotated[:,:,1])/255\n",
        "                    batch_data_aug[folder,idx,:,:,2] = (rotated[:,:,2])/255\n",
        "                \n",
        "            \n",
        "            batch_labels[folder, int(t[folder + (batch*batch_size)].strip().split(';')[2])] = 1\n",
        "            \n",
        "    \n",
        "        if (augment):\n",
        "            batch_data=np.concatenate([batch_data,batch_data_aug])\n",
        "            batch_labels=np.concatenate([batch_labels,batch_labels])\n",
        "\n",
        "        \n",
        "        return(batch_data,batch_labels)\n",
        "    \n",
        "    \n",
        "    def train_model(self, model, augment_data=False):\n",
        "        train_generator = self.generator(self.train_path, self.train_doc,augment=augment_data)\n",
        "        val_generator = self.generator(self.val_path, self.val_doc)\n",
        "\n",
        "        model_name = 'model_init' + '_' + str(datetime.datetime.now()).replace(' ','').replace(':','_') + '/'\n",
        "    \n",
        "        if not os.path.exists(model_name):\n",
        "            os.mkdir(model_name)\n",
        "        \n",
        "        filepath = model_name + 'model-{epoch:05d}-{loss:.5f}-{categorical_accuracy:.5f}-{val_loss:.5f}-{val_categorical_accuracy:.5f}.h5'\n",
        "\n",
        "        checkpoint = ModelCheckpoint(filepath, monitor='val_loss', verbose=1, save_best_only=False, save_weights_only=False, mode='auto', period=1)\n",
        "        LR = ReduceLROnPlateau(monitor='val_loss', factor=0.2, verbose=1, patience=4)\n",
        "        callbacks_list = [checkpoint, LR]\n",
        "\n",
        "        if (self.num_train_sequences%self.batch_size) == 0:\n",
        "            steps_per_epoch = int(self.num_train_sequences/self.batch_size)\n",
        "        else:\n",
        "            steps_per_epoch = (self.num_train_sequences//self.batch_size) + 1\n",
        "\n",
        "        if (self.num_val_sequences%self.batch_size) == 0:\n",
        "            validation_steps = int(self.num_val_sequences/self.batch_size)\n",
        "        else:\n",
        "            validation_steps = (self.num_val_sequences//self.batch_size) + 1\n",
        "    \n",
        "        history=model.fit_generator(train_generator, steps_per_epoch=steps_per_epoch, epochs=self.num_epochs, verbose=1, \n",
        "                            callbacks=callbacks_list, validation_data=val_generator, \n",
        "                            validation_steps=validation_steps, class_weight=None, workers=1, initial_epoch=0)\n",
        "        return history\n",
        "\n",
        "        \n",
        "    @abc.abstractmethod\n",
        "    def define_model(self):\n",
        "        pass"
      ],
      "execution_count": null,
      "outputs": []
    },
    {
      "cell_type": "code",
      "metadata": {
        "id": "05vKp5EpM7Fr",
        "colab_type": "code",
        "colab": {}
      },
      "source": [
        "class ModelConv3D7(ModelBuilderMoreAugmentation):\n",
        "    \n",
        "    def define_model(self,filtersize=(3,3,3),dense_neurons=64,dropout=0.25):\n",
        "\n",
        "        model = Sequential()\n",
        "        model.add(Conv3D(16, filtersize, padding='same',\n",
        "                 input_shape=(self.frames_to_sample,self.image_height,self.image_width,self.channels)))\n",
        "        model.add(Activation('relu'))\n",
        "        model.add(BatchNormalization())\n",
        "        model.add(MaxPooling3D(pool_size=(2, 2, 2)))\n",
        "\n",
        "        model.add(Conv3D(32, filtersize, padding='same'))\n",
        "        model.add(Activation('relu'))\n",
        "        model.add(BatchNormalization())\n",
        "        model.add(MaxPooling3D(pool_size=(2, 2, 2)))\n",
        "\n",
        "        model.add(Conv3D(64, filtersize, padding='same'))\n",
        "        model.add(Activation('relu'))\n",
        "        model.add(BatchNormalization())\n",
        "        model.add(MaxPooling3D(pool_size=(2, 2, 2)))\n",
        "\n",
        "        model.add(Conv3D(128, filtersize, padding='same'))\n",
        "        model.add(Activation('relu'))\n",
        "        model.add(BatchNormalization())\n",
        "        model.add(MaxPooling3D(pool_size=(2, 2, 2)))\n",
        "\n",
        "        model.add(Flatten())\n",
        "        model.add(Dense(dense_neurons,activation='relu'))\n",
        "        model.add(BatchNormalization())\n",
        "        model.add(Dropout(dropout))\n",
        "\n",
        "        model.add(Dense(dense_neurons,activation='relu'))\n",
        "        model.add(BatchNormalization())\n",
        "        model.add(Dropout(dropout))\n",
        "\n",
        "\n",
        "        model.add(Dense(self.num_classes,activation='softmax'))\n",
        "\n",
        "        optimiser = optimizers.Adam(lr=0.0002)\n",
        "        model.compile(optimizer=optimiser, loss='categorical_crossentropy', metrics=['categorical_accuracy'])\n",
        "        return model"
      ],
      "execution_count": null,
      "outputs": []
    },
    {
      "cell_type": "code",
      "metadata": {
        "id": "ddZUheQsM7Fw",
        "colab_type": "code",
        "colab": {},
        "outputId": "fb7db0ea-06e2-4e31-a97f-394bc332d08a"
      },
      "source": [
        "conv_3d7=ModelConv3D7()\n",
        "conv_3d7.initialize_path(project_folder)\n",
        "conv_3d7.initialize_image_properties(image_height=160,image_width=160)\n",
        "conv_3d7.initialize_hyperparams(frames_to_sample=20,batch_size=20,num_epochs=30)\n",
        "conv_3d7_model=conv_3d7.define_model(dense_neurons=256,dropout=0.5)\n",
        "conv_3d7_model.summary()"
      ],
      "execution_count": null,
      "outputs": [
        {
          "output_type": "stream",
          "text": [
            "_________________________________________________________________\n",
            "Layer (type)                 Output Shape              Param #   \n",
            "=================================================================\n",
            "conv3d_21 (Conv3D)           (None, 20, 160, 160, 16)  1312      \n",
            "_________________________________________________________________\n",
            "activation_21 (Activation)   (None, 20, 160, 160, 16)  0         \n",
            "_________________________________________________________________\n",
            "batch_normalization_31 (Batc (None, 20, 160, 160, 16)  64        \n",
            "_________________________________________________________________\n",
            "max_pooling3d_21 (MaxPooling (None, 10, 80, 80, 16)    0         \n",
            "_________________________________________________________________\n",
            "conv3d_22 (Conv3D)           (None, 10, 80, 80, 32)    13856     \n",
            "_________________________________________________________________\n",
            "activation_22 (Activation)   (None, 10, 80, 80, 32)    0         \n",
            "_________________________________________________________________\n",
            "batch_normalization_32 (Batc (None, 10, 80, 80, 32)    128       \n",
            "_________________________________________________________________\n",
            "max_pooling3d_22 (MaxPooling (None, 5, 40, 40, 32)     0         \n",
            "_________________________________________________________________\n",
            "conv3d_23 (Conv3D)           (None, 5, 40, 40, 64)     55360     \n",
            "_________________________________________________________________\n",
            "activation_23 (Activation)   (None, 5, 40, 40, 64)     0         \n",
            "_________________________________________________________________\n",
            "batch_normalization_33 (Batc (None, 5, 40, 40, 64)     256       \n",
            "_________________________________________________________________\n",
            "max_pooling3d_23 (MaxPooling (None, 2, 20, 20, 64)     0         \n",
            "_________________________________________________________________\n",
            "conv3d_24 (Conv3D)           (None, 2, 20, 20, 128)    221312    \n",
            "_________________________________________________________________\n",
            "activation_24 (Activation)   (None, 2, 20, 20, 128)    0         \n",
            "_________________________________________________________________\n",
            "batch_normalization_34 (Batc (None, 2, 20, 20, 128)    512       \n",
            "_________________________________________________________________\n",
            "max_pooling3d_24 (MaxPooling (None, 1, 10, 10, 128)    0         \n",
            "_________________________________________________________________\n",
            "flatten_6 (Flatten)          (None, 12800)             0         \n",
            "_________________________________________________________________\n",
            "dense_16 (Dense)             (None, 256)               3277056   \n",
            "_________________________________________________________________\n",
            "batch_normalization_35 (Batc (None, 256)               1024      \n",
            "_________________________________________________________________\n",
            "dropout_11 (Dropout)         (None, 256)               0         \n",
            "_________________________________________________________________\n",
            "dense_17 (Dense)             (None, 256)               65792     \n",
            "_________________________________________________________________\n",
            "batch_normalization_36 (Batc (None, 256)               1024      \n",
            "_________________________________________________________________\n",
            "dropout_12 (Dropout)         (None, 256)               0         \n",
            "_________________________________________________________________\n",
            "dense_18 (Dense)             (None, 5)                 1285      \n",
            "=================================================================\n",
            "Total params: 3,638,981\n",
            "Trainable params: 3,637,477\n",
            "Non-trainable params: 1,504\n",
            "_________________________________________________________________\n"
          ],
          "name": "stdout"
        }
      ]
    },
    {
      "cell_type": "code",
      "metadata": {
        "id": "jLc3LwojM7F0",
        "colab_type": "code",
        "colab": {},
        "outputId": "7500243d-1bf0-4b2e-eeae-2cdaaabdbee0"
      },
      "source": [
        "print(\"Total Params:\", conv_3d7_model.count_params())\n",
        "history_model7=conv_3d7.train_model(conv_3d7_model,augment_data=True)"
      ],
      "execution_count": null,
      "outputs": [
        {
          "output_type": "stream",
          "text": [
            "Total Params: 3638981\n",
            "Epoch 1/30\n",
            "34/34 [==============================] - 145s 4s/step - loss: 2.0800 - categorical_accuracy: 0.3274 - val_loss: 1.1205 - val_categorical_accuracy: 0.5800\n",
            "\n",
            "Epoch 00001: saving model to model_init_2020-06-2717_41_53.476232/model-00001-2.07325-0.32730-1.12048-0.58000.h5\n",
            "Epoch 2/30\n",
            "34/34 [==============================] - 133s 4s/step - loss: 1.4878 - categorical_accuracy: 0.4768 - val_loss: 0.9696 - val_categorical_accuracy: 0.6000\n",
            "\n",
            "Epoch 00002: saving model to model_init_2020-06-2717_41_53.476232/model-00002-1.50687-0.47210-0.96965-0.60000.h5\n",
            "Epoch 3/30\n",
            "34/34 [==============================] - 136s 4s/step - loss: 1.3156 - categorical_accuracy: 0.5390 - val_loss: 1.0747 - val_categorical_accuracy: 0.6100\n",
            "\n",
            "Epoch 00003: saving model to model_init_2020-06-2717_41_53.476232/model-00003-1.31123-0.53997-1.07475-0.61000.h5\n",
            "Epoch 4/30\n",
            "34/34 [==============================] - 137s 4s/step - loss: 1.1564 - categorical_accuracy: 0.6038 - val_loss: 1.1395 - val_categorical_accuracy: 0.5800\n",
            "\n",
            "Epoch 00004: saving model to model_init_2020-06-2717_41_53.476232/model-00004-1.11452-0.60633-1.13952-0.58000.h5\n",
            "Epoch 5/30\n",
            "34/34 [==============================] - 136s 4s/step - loss: 1.0308 - categorical_accuracy: 0.6428 - val_loss: 1.4133 - val_categorical_accuracy: 0.5400\n",
            "\n",
            "Epoch 00005: saving model to model_init_2020-06-2717_41_53.476232/model-00005-1.02580-0.64630-1.41335-0.54000.h5\n",
            "Epoch 6/30\n",
            "34/34 [==============================] - 135s 4s/step - loss: 0.9261 - categorical_accuracy: 0.6678 - val_loss: 1.2276 - val_categorical_accuracy: 0.6100\n",
            "\n",
            "Epoch 00006: saving model to model_init_2020-06-2717_41_53.476232/model-00006-0.92736-0.66365-1.22755-0.61000.h5\n",
            "\n",
            "Epoch 00006: ReduceLROnPlateau reducing learning rate to 3.9999998989515007e-05.\n",
            "Epoch 7/30\n",
            "34/34 [==============================] - 134s 4s/step - loss: 0.7877 - categorical_accuracy: 0.7009 - val_loss: 0.9674 - val_categorical_accuracy: 0.6700\n",
            "\n",
            "Epoch 00007: saving model to model_init_2020-06-2717_41_53.476232/model-00007-0.78140-0.70588-0.96739-0.67000.h5\n",
            "Epoch 8/30\n",
            "34/34 [==============================] - 133s 4s/step - loss: 0.8096 - categorical_accuracy: 0.7093 - val_loss: 0.8832 - val_categorical_accuracy: 0.6800\n",
            "\n",
            "Epoch 00008: saving model to model_init_2020-06-2717_41_53.476232/model-00008-0.75743-0.71870-0.88318-0.68000.h5\n",
            "Epoch 9/30\n",
            "34/34 [==============================] - 137s 4s/step - loss: 0.7816 - categorical_accuracy: 0.7160 - val_loss: 0.8162 - val_categorical_accuracy: 0.6800\n",
            "\n",
            "Epoch 00009: saving model to model_init_2020-06-2717_41_53.476232/model-00009-0.73350-0.72549-0.81615-0.68000.h5\n",
            "Epoch 10/30\n",
            "34/34 [==============================] - 136s 4s/step - loss: 0.7681 - categorical_accuracy: 0.7222 - val_loss: 0.7923 - val_categorical_accuracy: 0.7400\n",
            "\n",
            "Epoch 00010: saving model to model_init_2020-06-2717_41_53.476232/model-00010-0.74331-0.72775-0.79233-0.74000.h5\n",
            "Epoch 11/30\n",
            "34/34 [==============================] - 134s 4s/step - loss: 0.6873 - categorical_accuracy: 0.7579 - val_loss: 0.7698 - val_categorical_accuracy: 0.7400\n",
            "\n",
            "Epoch 00011: saving model to model_init_2020-06-2717_41_53.476232/model-00011-0.67544-0.76018-0.76977-0.74000.h5\n",
            "Epoch 12/30\n",
            "34/34 [==============================] - 133s 4s/step - loss: 0.6905 - categorical_accuracy: 0.7502 - val_loss: 0.7610 - val_categorical_accuracy: 0.7100\n",
            "\n",
            "Epoch 00012: saving model to model_init_2020-06-2717_41_53.476232/model-00012-0.63752-0.76471-0.76100-0.71000.h5\n",
            "Epoch 13/30\n",
            "34/34 [==============================] - 136s 4s/step - loss: 0.6689 - categorical_accuracy: 0.7535 - val_loss: 0.8581 - val_categorical_accuracy: 0.6900\n",
            "\n",
            "Epoch 00013: saving model to model_init_2020-06-2717_41_53.476232/model-00013-0.61926-0.76395-0.85815-0.69000.h5\n",
            "Epoch 14/30\n",
            "34/34 [==============================] - 136s 4s/step - loss: 0.6084 - categorical_accuracy: 0.7734 - val_loss: 0.8027 - val_categorical_accuracy: 0.7500\n",
            "\n",
            "Epoch 00014: saving model to model_init_2020-06-2717_41_53.476232/model-00014-0.61325-0.77602-0.80269-0.75000.h5\n",
            "Epoch 15/30\n",
            "34/34 [==============================] - 135s 4s/step - loss: 0.5563 - categorical_accuracy: 0.8054 - val_loss: 0.7556 - val_categorical_accuracy: 0.7600\n",
            "\n",
            "Epoch 00015: saving model to model_init_2020-06-2717_41_53.476232/model-00015-0.55657-0.80468-0.75558-0.76000.h5\n",
            "Epoch 16/30\n",
            "34/34 [==============================] - 135s 4s/step - loss: 0.5503 - categorical_accuracy: 0.7921 - val_loss: 0.7872 - val_categorical_accuracy: 0.7400\n",
            "\n",
            "Epoch 00016: saving model to model_init_2020-06-2717_41_53.476232/model-00016-0.55930-0.79110-0.78721-0.74000.h5\n",
            "Epoch 17/30\n",
            "34/34 [==============================] - 135s 4s/step - loss: 0.5334 - categorical_accuracy: 0.7969 - val_loss: 0.7834 - val_categorical_accuracy: 0.7300\n",
            "\n",
            "Epoch 00017: saving model to model_init_2020-06-2717_41_53.476232/model-00017-0.53387-0.80015-0.78342-0.73000.h5\n",
            "Epoch 18/30\n",
            "34/34 [==============================] - 134s 4s/step - loss: 0.5814 - categorical_accuracy: 0.8057 - val_loss: 0.7267 - val_categorical_accuracy: 0.7600\n",
            "\n",
            "Epoch 00018: saving model to model_init_2020-06-2717_41_53.476232/model-00018-0.53527-0.80920-0.72667-0.76000.h5\n",
            "Epoch 19/30\n",
            "34/34 [==============================] - 134s 4s/step - loss: 0.4942 - categorical_accuracy: 0.8157 - val_loss: 0.6953 - val_categorical_accuracy: 0.7400\n",
            "\n",
            "Epoch 00019: saving model to model_init_2020-06-2717_41_53.476232/model-00019-0.49352-0.81523-0.69532-0.74000.h5\n",
            "Epoch 20/30\n",
            "34/34 [==============================] - 132s 4s/step - loss: 0.5385 - categorical_accuracy: 0.8127 - val_loss: 0.6849 - val_categorical_accuracy: 0.7400\n",
            "\n",
            "Epoch 00020: saving model to model_init_2020-06-2717_41_53.476232/model-00020-0.53684-0.81222-0.68487-0.74000.h5\n",
            "Epoch 21/30\n",
            "34/34 [==============================] - 133s 4s/step - loss: 0.4952 - categorical_accuracy: 0.8230 - val_loss: 0.7297 - val_categorical_accuracy: 0.7700\n",
            "\n",
            "Epoch 00021: saving model to model_init_2020-06-2717_41_53.476232/model-00021-0.46465-0.83107-0.72971-0.77000.h5\n",
            "Epoch 22/30\n",
            "34/34 [==============================] - 133s 4s/step - loss: 0.5490 - categorical_accuracy: 0.8175 - val_loss: 0.8002 - val_categorical_accuracy: 0.7400\n",
            "\n",
            "Epoch 00022: saving model to model_init_2020-06-2717_41_53.476232/model-00022-0.47638-0.82956-0.80022-0.74000.h5\n",
            "Epoch 23/30\n",
            "34/34 [==============================] - 133s 4s/step - loss: 0.4547 - categorical_accuracy: 0.8436 - val_loss: 0.7574 - val_categorical_accuracy: 0.7400\n",
            "\n",
            "Epoch 00023: saving model to model_init_2020-06-2717_41_53.476232/model-00023-0.45786-0.84389-0.75737-0.74000.h5\n",
            "Epoch 24/30\n",
            "34/34 [==============================] - 134s 4s/step - loss: 0.4851 - categorical_accuracy: 0.8157 - val_loss: 0.6773 - val_categorical_accuracy: 0.7600\n",
            "\n",
            "Epoch 00024: saving model to model_init_2020-06-2717_41_53.476232/model-00024-0.46172-0.83183-0.67733-0.76000.h5\n",
            "Epoch 25/30\n",
            "34/34 [==============================] - 134s 4s/step - loss: 0.4508 - categorical_accuracy: 0.8252 - val_loss: 0.6546 - val_categorical_accuracy: 0.7800\n",
            "\n",
            "Epoch 00025: saving model to model_init_2020-06-2717_41_53.476232/model-00025-0.45074-0.82504-0.65458-0.78000.h5\n",
            "Epoch 26/30\n",
            "34/34 [==============================] - 133s 4s/step - loss: 0.4668 - categorical_accuracy: 0.8355 - val_loss: 0.6423 - val_categorical_accuracy: 0.7900\n",
            "\n",
            "Epoch 00026: saving model to model_init_2020-06-2717_41_53.476232/model-00026-0.43894-0.84389-0.64228-0.79000.h5\n",
            "Epoch 27/30\n",
            "34/34 [==============================] - 134s 4s/step - loss: 0.4005 - categorical_accuracy: 0.8455 - val_loss: 0.7083 - val_categorical_accuracy: 0.7400\n",
            "\n",
            "Epoch 00027: saving model to model_init_2020-06-2717_41_53.476232/model-00027-0.39745-0.84992-0.70829-0.74000.h5\n",
            "Epoch 28/30\n",
            "34/34 [==============================] - 135s 4s/step - loss: 0.4581 - categorical_accuracy: 0.8308 - val_loss: 0.7661 - val_categorical_accuracy: 0.7700\n",
            "\n",
            "Epoch 00028: saving model to model_init_2020-06-2717_41_53.476232/model-00028-0.46500-0.82655-0.76608-0.77000.h5\n",
            "Epoch 29/30\n",
            "34/34 [==============================] - 136s 4s/step - loss: 0.4253 - categorical_accuracy: 0.8466 - val_loss: 0.6701 - val_categorical_accuracy: 0.7500\n",
            "\n",
            "Epoch 00029: saving model to model_init_2020-06-2717_41_53.476232/model-00029-0.42506-0.84691-0.67011-0.75000.h5\n",
            "Epoch 30/30\n"
          ],
          "name": "stdout"
        },
        {
          "output_type": "stream",
          "text": [
            "34/34 [==============================] - 135s 4s/step - loss: 0.3663 - categorical_accuracy: 0.8709 - val_loss: 0.7187 - val_categorical_accuracy: 0.7600\n",
            "\n",
            "Epoch 00030: saving model to model_init_2020-06-2717_41_53.476232/model-00030-0.37136-0.87179-0.71867-0.76000.h5\n",
            "\n",
            "Epoch 00030: ReduceLROnPlateau reducing learning rate to 7.999999797903002e-06.\n"
          ],
          "name": "stdout"
        }
      ]
    },
    {
      "cell_type": "code",
      "metadata": {
        "id": "TJnXJ1f7M7F6",
        "colab_type": "code",
        "colab": {},
        "outputId": "e5beb221-9e5b-4ae8-8690-9954baf95543"
      },
      "source": [
        "plot(history_model7)"
      ],
      "execution_count": null,
      "outputs": [
        {
          "output_type": "display_data",
          "data": {
            "image/png": "[encoded data removed]",
            "text/plain": [
              "<Figure size 1080x288 with 2 Axes>"
            ]
          },
          "metadata": {
            "tags": []
          }
        }
      ]
    },
    {
      "cell_type": "code",
      "metadata": {
        "id": "xWFqEGAuM7F-",
        "colab_type": "code",
        "colab": {}
      },
      "source": [
        ""
      ],
      "execution_count": null,
      "outputs": []
    },
    {
      "cell_type": "code",
      "metadata": {
        "id": "b1uGRzZfM7GC",
        "colab_type": "code",
        "colab": {}
      },
      "source": [
        ""
      ],
      "execution_count": null,
      "outputs": []
    }
  ]
}